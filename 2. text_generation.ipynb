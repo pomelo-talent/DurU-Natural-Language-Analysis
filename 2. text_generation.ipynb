{
 "cells": [
  {
   "cell_type": "markdown",
   "metadata": {},
   "source": [
    "The whole code takes about 1 hour to run on a rent 2080ti GPU server."
   ]
  },
  {
   "cell_type": "markdown",
   "metadata": {},
   "source": [
    "# 1. Develop a Neural Language Model for Text Generation"
   ]
  },
  {
   "cell_type": "markdown",
   "metadata": {},
   "source": [
    "# (1) Prepare Text Data For Modeling"
   ]
  },
  {
   "cell_type": "markdown",
   "metadata": {},
   "source": [
    "# 1) Load Text"
   ]
  },
  {
   "cell_type": "code",
   "execution_count": 1,
   "metadata": {},
   "outputs": [],
   "source": [
    "import pandas as pd\n"
   ]
  },
  {
   "cell_type": "code",
   "execution_count": 2,
   "metadata": {},
   "outputs": [
    {
     "name": "stdout",
     "output_type": "stream",
     "text": [
      "The right file is opened.\n"
     ]
    }
   ],
   "source": [
    "train_clean = pd.read_csv('train_clean.csv', header = 0)\n",
    "    \n",
    "if train_clean.columns[-1] != 'text_len':\n",
    "    print(\"Error: The column -- 'text_len' is missing.\")\n",
    "else:\n",
    "    print(\"The right file is opened.\")"
   ]
  },
  {
   "cell_type": "code",
   "execution_count": 3,
   "metadata": {},
   "outputs": [
    {
     "data": {
      "text/html": [
       "<div>\n",
       "<style scoped>\n",
       "    .dataframe tbody tr th:only-of-type {\n",
       "        vertical-align: middle;\n",
       "    }\n",
       "\n",
       "    .dataframe tbody tr th {\n",
       "        vertical-align: top;\n",
       "    }\n",
       "\n",
       "    .dataframe thead th {\n",
       "        text-align: right;\n",
       "    }\n",
       "</style>\n",
       "<table border=\"1\" class=\"dataframe\">\n",
       "  <thead>\n",
       "    <tr style=\"text-align: right;\">\n",
       "      <th></th>\n",
       "      <th>label</th>\n",
       "      <th>article titile</th>\n",
       "      <th>article text</th>\n",
       "      <th>text_len</th>\n",
       "    </tr>\n",
       "  </thead>\n",
       "  <tbody>\n",
       "    <tr>\n",
       "      <td>0</td>\n",
       "      <td>2</td>\n",
       "      <td>Wizards Guard Blake Out 10-12 Week (AP)</td>\n",
       "      <td>ap washington wizards point guard steve blake ...</td>\n",
       "      <td>15</td>\n",
       "    </tr>\n",
       "    <tr>\n",
       "      <td>1</td>\n",
       "      <td>4</td>\n",
       "      <td>Brief: HP acquires Synstar for \\$293M</td>\n",
       "      <td>in move designed help better compete europe he...</td>\n",
       "      <td>17</td>\n",
       "    </tr>\n",
       "    <tr>\n",
       "      <td>2</td>\n",
       "      <td>3</td>\n",
       "      <td>US Airways #39; pilots vote for 18 salary redu...</td>\n",
       "      <td>us airways pilots voted approve new labor agre...</td>\n",
       "      <td>16</td>\n",
       "    </tr>\n",
       "    <tr>\n",
       "      <td>3</td>\n",
       "      <td>4</td>\n",
       "      <td>Radiation risks 'need updating'</td>\n",
       "      <td>uk panel examining radiation risks says offici...</td>\n",
       "      <td>14</td>\n",
       "    </tr>\n",
       "    <tr>\n",
       "      <td>4</td>\n",
       "      <td>1</td>\n",
       "      <td>President's fate is on the line in Venezuela</td>\n",
       "      <td>caracas partisans sides calling polarized impo...</td>\n",
       "      <td>27</td>\n",
       "    </tr>\n",
       "  </tbody>\n",
       "</table>\n",
       "</div>"
      ],
      "text/plain": [
       "   label                                     article titile  \\\n",
       "0      2            Wizards Guard Blake Out 10-12 Week (AP)   \n",
       "1      4              Brief: HP acquires Synstar for \\$293M   \n",
       "2      3  US Airways #39; pilots vote for 18 salary redu...   \n",
       "3      4                    Radiation risks 'need updating'   \n",
       "4      1       President's fate is on the line in Venezuela   \n",
       "\n",
       "                                        article text  text_len  \n",
       "0  ap washington wizards point guard steve blake ...        15  \n",
       "1  in move designed help better compete europe he...        17  \n",
       "2  us airways pilots voted approve new labor agre...        16  \n",
       "3  uk panel examining radiation risks says offici...        14  \n",
       "4  caracas partisans sides calling polarized impo...        27  "
      ]
     },
     "execution_count": 3,
     "metadata": {},
     "output_type": "execute_result"
    }
   ],
   "source": [
    "train_clean.head()"
   ]
  },
  {
   "cell_type": "code",
   "execution_count": 4,
   "metadata": {},
   "outputs": [
    {
     "name": "stdout",
     "output_type": "stream",
     "text": [
      "<class 'pandas.core.frame.DataFrame'>\n",
      "RangeIndex: 40000 entries, 0 to 39999\n",
      "Data columns (total 4 columns):\n",
      "label             40000 non-null int64\n",
      "article titile    40000 non-null object\n",
      "article text      40000 non-null object\n",
      "text_len          40000 non-null int64\n",
      "dtypes: int64(2), object(2)\n",
      "memory usage: 1.2+ MB\n",
      "None\n"
     ]
    }
   ],
   "source": [
    "# checking missing data & len(test_clean)\n",
    "print(train_clean.info())"
   ]
  },
  {
   "cell_type": "code",
   "execution_count": 5,
   "metadata": {
    "scrolled": true
   },
   "outputs": [
    {
     "data": {
      "text/html": [
       "<div>\n",
       "<style scoped>\n",
       "    .dataframe tbody tr th:only-of-type {\n",
       "        vertical-align: middle;\n",
       "    }\n",
       "\n",
       "    .dataframe tbody tr th {\n",
       "        vertical-align: top;\n",
       "    }\n",
       "\n",
       "    .dataframe thead th {\n",
       "        text-align: right;\n",
       "    }\n",
       "</style>\n",
       "<table border=\"1\" class=\"dataframe\">\n",
       "  <thead>\n",
       "    <tr style=\"text-align: right;\">\n",
       "      <th></th>\n",
       "      <th>label</th>\n",
       "      <th>article titile</th>\n",
       "      <th>article text</th>\n",
       "      <th>text_len</th>\n",
       "    </tr>\n",
       "  </thead>\n",
       "  <tbody>\n",
       "    <tr>\n",
       "      <td>0</td>\n",
       "      <td>2</td>\n",
       "      <td>Wizards Guard Blake Out 10-12 Week (AP)</td>\n",
       "      <td>ap washington wizards point guard steve blake ...</td>\n",
       "      <td>15</td>\n",
       "    </tr>\n",
       "    <tr>\n",
       "      <td>8</td>\n",
       "      <td>2</td>\n",
       "      <td>Japan celebrates Suzuki breaking record</td>\n",
       "      <td>baseball fans across japan saturday honored ic...</td>\n",
       "      <td>19</td>\n",
       "    </tr>\n",
       "    <tr>\n",
       "      <td>9</td>\n",
       "      <td>2</td>\n",
       "      <td>On world stage, no one else compares to Els</td>\n",
       "      <td>it two years ago ernie els explained possible ...</td>\n",
       "      <td>19</td>\n",
       "    </tr>\n",
       "    <tr>\n",
       "      <td>16</td>\n",
       "      <td>2</td>\n",
       "      <td>Mismatch Turns Competitive as Henin-Hardenne F...</td>\n",
       "      <td>what appeared mismatch took turn competitive s...</td>\n",
       "      <td>11</td>\n",
       "    </tr>\n",
       "    <tr>\n",
       "      <td>23</td>\n",
       "      <td>2</td>\n",
       "      <td>Serena Blames Headache for Linz Upset (AP)</td>\n",
       "      <td>ap serena williams blamed headache poor play u...</td>\n",
       "      <td>17</td>\n",
       "    </tr>\n",
       "    <tr>\n",
       "      <td>...</td>\n",
       "      <td>...</td>\n",
       "      <td>...</td>\n",
       "      <td>...</td>\n",
       "      <td>...</td>\n",
       "    </tr>\n",
       "    <tr>\n",
       "      <td>39970</td>\n",
       "      <td>2</td>\n",
       "      <td>Singh stays in front</td>\n",
       "      <td>vijay singh remained course fifth victory six ...</td>\n",
       "      <td>14</td>\n",
       "    </tr>\n",
       "    <tr>\n",
       "      <td>39977</td>\n",
       "      <td>2</td>\n",
       "      <td>Morgan traded for  #39;Boys Bryant</td>\n",
       "      <td>some may see browns straightup trade quincy mo...</td>\n",
       "      <td>17</td>\n",
       "    </tr>\n",
       "    <tr>\n",
       "      <td>39990</td>\n",
       "      <td>2</td>\n",
       "      <td>Safin wins Madrid Masters; Masters Cup spot be...</td>\n",
       "      <td>madrid marat safin sent aces devastated david ...</td>\n",
       "      <td>20</td>\n",
       "    </tr>\n",
       "    <tr>\n",
       "      <td>39995</td>\n",
       "      <td>2</td>\n",
       "      <td>SHOCKED  amp; DISMAYED</td>\n",
       "      <td>is possible giants fans seen last dynamic jere...</td>\n",
       "      <td>18</td>\n",
       "    </tr>\n",
       "    <tr>\n",
       "      <td>39997</td>\n",
       "      <td>2</td>\n",
       "      <td>College Basketball: Illinois Defeats Wake Forest</td>\n",
       "      <td>champaign ill sports network roger powell jr s...</td>\n",
       "      <td>18</td>\n",
       "    </tr>\n",
       "  </tbody>\n",
       "</table>\n",
       "<p>10000 rows × 4 columns</p>\n",
       "</div>"
      ],
      "text/plain": [
       "       label                                     article titile  \\\n",
       "0          2            Wizards Guard Blake Out 10-12 Week (AP)   \n",
       "8          2            Japan celebrates Suzuki breaking record   \n",
       "9          2        On world stage, no one else compares to Els   \n",
       "16         2  Mismatch Turns Competitive as Henin-Hardenne F...   \n",
       "23         2         Serena Blames Headache for Linz Upset (AP)   \n",
       "...      ...                                                ...   \n",
       "39970      2                               Singh stays in front   \n",
       "39977      2                 Morgan traded for  #39;Boys Bryant   \n",
       "39990      2  Safin wins Madrid Masters; Masters Cup spot be...   \n",
       "39995      2                             SHOCKED  amp; DISMAYED   \n",
       "39997      2   College Basketball: Illinois Defeats Wake Forest   \n",
       "\n",
       "                                            article text  text_len  \n",
       "0      ap washington wizards point guard steve blake ...        15  \n",
       "8      baseball fans across japan saturday honored ic...        19  \n",
       "9      it two years ago ernie els explained possible ...        19  \n",
       "16     what appeared mismatch took turn competitive s...        11  \n",
       "23     ap serena williams blamed headache poor play u...        17  \n",
       "...                                                  ...       ...  \n",
       "39970  vijay singh remained course fifth victory six ...        14  \n",
       "39977  some may see browns straightup trade quincy mo...        17  \n",
       "39990  madrid marat safin sent aces devastated david ...        20  \n",
       "39995  is possible giants fans seen last dynamic jere...        18  \n",
       "39997  champaign ill sports network roger powell jr s...        18  \n",
       "\n",
       "[10000 rows x 4 columns]"
      ]
     },
     "execution_count": 5,
     "metadata": {},
     "output_type": "execute_result"
    }
   ],
   "source": [
    "train_Sports = train_clean[train_clean['label'] == 2]\n",
    "train_Sports"
   ]
  },
  {
   "cell_type": "markdown",
   "metadata": {},
   "source": [
    "# 2) Organize into Sequences of Tokens"
   ]
  },
  {
   "cell_type": "code",
   "execution_count": 6,
   "metadata": {},
   "outputs": [],
   "source": [
    "import matplotlib.pyplot as plt\n",
    "import seaborn as sns"
   ]
  },
  {
   "cell_type": "code",
   "execution_count": 7,
   "metadata": {},
   "outputs": [
    {
     "data": {
      "text/plain": [
       "['ap washington wizards point guard steve blake miss first month season injuring ankle pickup game',\n",
       " 'baseball fans across japan saturday honored ichiro suzuki seattle mariners japanese player broke major league baseball record season hits',\n",
       " 'it two years ago ernie els explained possible tiger woods could overtaken world rankings of course time south african',\n",
       " 'what appeared mismatch took turn competitive second set heninhardenne regrouped win',\n",
       " 'ap serena williams blamed headache poor play upset loss qualifier alina jidkova second round generali ladies open',\n",
       " 'the connecticut sun game last saturday dropped opener wnba eastern conference semifinal series washington mystics but sun came back even series monday mystics game',\n",
       " 'the supreme court stayed election appointment jagmohan dalmiya patroninchief bcci the court also stayed appointment justice mohan bcci administrator restored',\n",
       " 'quarterback jason white last years heisman winner passed five touchdowns no oklahoma escaped no texas',\n",
       " 'us gymnast paul hamm keep gold medal men allaround event athens olympics sports tribunal ruled thursday lausanne switzerland',\n",
       " 'athens world no roger federer switzerland crashed olympic tennis tournament lost unseeded tomas berdych czech republic']"
      ]
     },
     "execution_count": 7,
     "metadata": {},
     "output_type": "execute_result"
    }
   ],
   "source": [
    "train_Sports_text = list(train_Sports['article text'])\n",
    "# do a sanity check\n",
    "train_Sports_text[:10]"
   ]
  },
  {
   "cell_type": "code",
   "execution_count": 8,
   "metadata": {},
   "outputs": [
    {
     "name": "stdout",
     "output_type": "stream",
     "text": [
      "[['ap', 'washington', 'wizards', 'point', 'guard', 'steve', 'blake', 'miss', 'first', 'month', 'season', 'injuring', 'ankle', 'pickup', 'game'], ['baseball', 'fans', 'across', 'japan', 'saturday', 'honored', 'ichiro', 'suzuki', 'seattle', 'mariners', 'japanese', 'player', 'broke', 'major', 'league', 'baseball', 'record', 'season', 'hits'], ['it', 'two', 'years', 'ago', 'ernie', 'els', 'explained', 'possible', 'tiger', 'woods', 'could', 'overtaken', 'world', 'rankings', 'of', 'course', 'time', 'south', 'african'], ['what', 'appeared', 'mismatch', 'took', 'turn', 'competitive', 'second', 'set', 'heninhardenne', 'regrouped', 'win'], ['ap', 'serena', 'williams', 'blamed', 'headache', 'poor', 'play', 'upset', 'loss', 'qualifier', 'alina', 'jidkova', 'second', 'round', 'generali', 'ladies', 'open'], ['the', 'connecticut', 'sun', 'game', 'last', 'saturday', 'dropped', 'opener', 'wnba', 'eastern', 'conference', 'semifinal', 'series', 'washington', 'mystics', 'but', 'sun', 'came', 'back', 'even', 'series', 'monday', 'mystics', 'game'], ['the', 'supreme', 'court', 'stayed', 'election', 'appointment', 'jagmohan', 'dalmiya', 'patroninchief', 'bcci', 'the', 'court', 'also', 'stayed', 'appointment', 'justice', 'mohan', 'bcci', 'administrator', 'restored'], ['quarterback', 'jason', 'white', 'last', 'years', 'heisman', 'winner', 'passed', 'five', 'touchdowns', 'no', 'oklahoma', 'escaped', 'no', 'texas'], ['us', 'gymnast', 'paul', 'hamm', 'keep', 'gold', 'medal', 'men', 'allaround', 'event', 'athens', 'olympics', 'sports', 'tribunal', 'ruled', 'thursday', 'lausanne', 'switzerland'], ['athens', 'world', 'no', 'roger', 'federer', 'switzerland', 'crashed', 'olympic', 'tennis', 'tournament', 'lost', 'unseeded', 'tomas', 'berdych', 'czech', 'republic']]\n"
     ]
    }
   ],
   "source": [
    "def split_tokens(texts):\n",
    "    all_tokens = list()\n",
    "    for text in texts:\n",
    "        tokens = text.split()\n",
    "        all_tokens.append(tokens)\n",
    "    return all_tokens\n",
    "\n",
    "\n",
    "train_Sports_tokens = split_tokens(train_Sports_text)\n",
    "# do a sanity check\n",
    "print(train_Sports_tokens[:10])"
   ]
  },
  {
   "cell_type": "code",
   "execution_count": 9,
   "metadata": {},
   "outputs": [
    {
     "data": {
      "text/plain": [
       "count    10000.000000\n",
       "mean        19.292500\n",
       "std          5.242146\n",
       "min          5.000000\n",
       "25%         16.000000\n",
       "50%         19.000000\n",
       "75%         22.000000\n",
       "max         85.000000\n",
       "Name: text_len, dtype: float64"
      ]
     },
     "execution_count": 9,
     "metadata": {},
     "output_type": "execute_result"
    }
   ],
   "source": [
    "train_Sports[\"text_len\"].describe()"
   ]
  },
  {
   "cell_type": "code",
   "execution_count": 10,
   "metadata": {},
   "outputs": [
    {
     "data": {
      "image/png": "[encoded data removed]",
      "text/plain": [
       "<Figure size 432x288 with 1 Axes>"
      ]
     },
     "metadata": {
      "needs_background": "light"
     },
     "output_type": "display_data"
    }
   ],
   "source": [
    "# show the distribution of text length using bars\n",
    "plt.figure()\n",
    "plt.hist(train_Sports[\"text_len\"], bins = 100)\n",
    "plt.xlabel('text length', size =12)\n",
    "plt.ylabel('frequency', size =12)\n",
    "plt.title('Training dataset (Sports)')\n",
    "plt.show()"
   ]
  },
  {
   "cell_type": "code",
   "execution_count": 11,
   "metadata": {},
   "outputs": [
    {
     "name": "stdout",
     "output_type": "stream",
     "text": [
      "Total Sequences: 172925\n",
      "['ap washington wizards', 'washington wizards point', 'wizards point guard', 'point guard steve', 'guard steve blake', 'steve blake miss', 'blake miss first', 'miss first month', 'first month season', 'month season injuring', 'season injuring ankle', 'injuring ankle pickup', 'ankle pickup game', 'baseball fans across', 'fans across japan', 'across japan saturday', 'japan saturday honored', 'saturday honored ichiro', 'honored ichiro suzuki', 'ichiro suzuki seattle', 'suzuki seattle mariners', 'seattle mariners japanese', 'mariners japanese player', 'japanese player broke', 'player broke major', 'broke major league', 'major league baseball', 'league baseball record', 'baseball record season', 'record season hits']\n"
     ]
    }
   ],
   "source": [
    "length = 2 + 1\n",
    "sequences = []\n",
    "for line in train_Sports_tokens:\n",
    "    for i in range(length, len(line)+1):\n",
    "        seq = line[i-length:i]\n",
    "        seq = ' '.join(seq)\n",
    "        sequences.append(seq)\n",
    "print('Total Sequences: %d' % len(sequences))    \n",
    "# do a sanity check\n",
    "print(sequences[:30])\n"
   ]
  },
  {
   "cell_type": "markdown",
   "metadata": {},
   "source": [
    "# 3) Save Sequences"
   ]
  },
  {
   "cell_type": "code",
   "execution_count": 12,
   "metadata": {},
   "outputs": [],
   "source": [
    "def save_doc(text, filename):\n",
    "    data = '\\n'.join(text)\n",
    "    file = open(filename, 'w')\n",
    "    file.write(data)\n",
    "    file.close()\n",
    "\n",
    "# save sequences to file\n",
    "out_filename = 'train_Sports_seq.txt'\n",
    "save_doc(sequences, out_filename)"
   ]
  },
  {
   "cell_type": "markdown",
   "metadata": {},
   "source": [
    "# (2) Train Language Model"
   ]
  },
  {
   "cell_type": "markdown",
   "metadata": {},
   "source": [
    "# 1) Load Sequences"
   ]
  },
  {
   "cell_type": "code",
   "execution_count": 13,
   "metadata": {},
   "outputs": [
    {
     "name": "stdout",
     "output_type": "stream",
     "text": [
      "['ap washington wizards', 'washington wizards point', 'wizards point guard', 'point guard steve', 'guard steve blake', 'steve blake miss', 'blake miss first', 'miss first month', 'first month season', 'month season injuring', 'season injuring ankle', 'injuring ankle pickup', 'ankle pickup game', 'baseball fans across', 'fans across japan', 'across japan saturday', 'japan saturday honored', 'saturday honored ichiro', 'honored ichiro suzuki', 'ichiro suzuki seattle', 'suzuki seattle mariners', 'seattle mariners japanese', 'mariners japanese player', 'japanese player broke', 'player broke major', 'broke major league', 'major league baseball', 'league baseball record', 'baseball record season', 'record season hits']\n"
     ]
    }
   ],
   "source": [
    "# load doc into memory\n",
    "def load_doc(filename):\n",
    "    # open the file as read only\n",
    "    file = open(filename, 'r')\n",
    "    # read all text\n",
    "    text = file.read()\n",
    "    # close the file\n",
    "    file.close()\n",
    "    return text\n",
    "\n",
    "# load \n",
    "in_filename = 'train_Sports_seq.txt'\n",
    "doc = load_doc(in_filename)\n",
    "lines = doc.split('\\n')\n",
    "print(lines[:30])"
   ]
  },
  {
   "cell_type": "markdown",
   "metadata": {},
   "source": [
    "# 2) Encode Sequences"
   ]
  },
  {
   "cell_type": "code",
   "execution_count": 14,
   "metadata": {},
   "outputs": [
    {
     "name": "stderr",
     "output_type": "stream",
     "text": [
      "Using TensorFlow backend.\n"
     ]
    }
   ],
   "source": [
    "from keras.preprocessing.text import Tokenizer"
   ]
  },
  {
   "cell_type": "code",
   "execution_count": 15,
   "metadata": {},
   "outputs": [
    {
     "name": "stdout",
     "output_type": "stream",
     "text": [
      "[[41, 122, 1278], [122, 1278, 397], [1278, 397, 273], [397, 273, 304], [273, 304, 4237], [304, 4237, 271], [4237, 271, 2], [271, 2, 269], [2, 269, 9], [269, 9, 3390], [9, 3390, 790], [3390, 790, 18215], [790, 18215, 5], [90, 100, 1399], [100, 1399, 461], [1399, 461, 18], [461, 18, 6194], [18, 6194, 1749], [6194, 1749, 1555], [1749, 1555, 215], [1555, 215, 691], [215, 691, 1122], [691, 1122, 87], [1122, 87, 520], [87, 520, 94], [520, 94, 13], [94, 13, 90], [13, 90, 78], [90, 78, 9], [78, 9, 435]]\n"
     ]
    }
   ],
   "source": [
    "# integer encode sequences of words\n",
    "tokenizer = Tokenizer()\n",
    "tokenizer.fit_on_texts(lines)\n",
    "sequences = tokenizer.texts_to_sequences(lines)\n",
    "print(sequences[:30])"
   ]
  },
  {
   "cell_type": "code",
   "execution_count": 16,
   "metadata": {},
   "outputs": [],
   "source": [
    "# vocabulary size\n",
    "vocab_size = len(tokenizer.word_index) + 1"
   ]
  },
  {
   "cell_type": "markdown",
   "metadata": {},
   "source": [
    "# 3) Split Sequences into Input and Output"
   ]
  },
  {
   "cell_type": "code",
   "execution_count": 17,
   "metadata": {},
   "outputs": [],
   "source": [
    "from numpy import array\n",
    "from keras.utils import to_categorical"
   ]
  },
  {
   "cell_type": "code",
   "execution_count": 18,
   "metadata": {},
   "outputs": [],
   "source": [
    "# separate into input and output\n",
    "sequences = array(sequences)\n",
    "X, y = sequences[:, :-1], sequences[:, -1]\n",
    "y = to_categorical(y, num_classes = vocab_size)\n",
    "# calculate the length of one sequence\n",
    "seq_length = X.shape[1]"
   ]
  },
  {
   "cell_type": "markdown",
   "metadata": {},
   "source": [
    "# 4）Fit Model"
   ]
  },
  {
   "cell_type": "code",
   "execution_count": 19,
   "metadata": {},
   "outputs": [],
   "source": [
    "from keras.models import Sequential\n",
    "from keras.layers import Dense\n",
    "from keras.layers import LSTM\n",
    "from keras.layers import Embedding\n",
    "from keras.utils.vis_utils import plot_model\n",
    "from pickle import dump"
   ]
  },
  {
   "cell_type": "code",
   "execution_count": 20,
   "metadata": {},
   "outputs": [
    {
     "name": "stdout",
     "output_type": "stream",
     "text": [
      "Model: \"sequential_1\"\n",
      "_________________________________________________________________\n",
      "Layer (type)                 Output Shape              Param #   \n",
      "=================================================================\n",
      "embedding_1 (Embedding)      (None, 2, 50)             998700    \n",
      "_________________________________________________________________\n",
      "lstm_1 (LSTM)                (None, 2, 100)            60400     \n",
      "_________________________________________________________________\n",
      "lstm_2 (LSTM)                (None, 100)               80400     \n",
      "_________________________________________________________________\n",
      "dense_1 (Dense)              (None, 100)               10100     \n",
      "_________________________________________________________________\n",
      "dense_2 (Dense)              (None, 19974)             2017374   \n",
      "=================================================================\n",
      "Total params: 3,166,974\n",
      "Trainable params: 3,166,974\n",
      "Non-trainable params: 0\n",
      "_________________________________________________________________\n"
     ]
    },
    {
     "name": "stderr",
     "output_type": "stream",
     "text": [
      "/usr/local/lib/python3.6/dist-packages/tensorflow_core/python/framework/indexed_slices.py:424: UserWarning: Converting sparse IndexedSlices to a dense Tensor of unknown shape. This may consume a large amount of memory.\n",
      "  \"Converting sparse IndexedSlices to a dense Tensor of unknown shape. \"\n"
     ]
    },
    {
     "name": "stdout",
     "output_type": "stream",
     "text": [
      "Epoch 1/100\n",
      "172925/172925 [==============================] - 25s 145us/step - loss: 8.4542 - accuracy: 0.0060\n",
      "Epoch 2/100\n",
      "172925/172925 [==============================] - 24s 141us/step - loss: 8.0739 - accuracy: 0.0115\n",
      "Epoch 3/100\n",
      "172925/172925 [==============================] - 24s 141us/step - loss: 7.7565 - accuracy: 0.0216\n",
      "Epoch 4/100\n",
      "172925/172925 [==============================] - 24s 140us/step - loss: 7.4482 - accuracy: 0.0384\n",
      "Epoch 5/100\n",
      "172925/172925 [==============================] - 23s 134us/step - loss: 7.1509 - accuracy: 0.0593\n",
      "Epoch 6/100\n",
      "172925/172925 [==============================] - 23s 135us/step - loss: 6.8751 - accuracy: 0.0769\n",
      "Epoch 7/100\n",
      "172925/172925 [==============================] - 23s 135us/step - loss: 6.6081 - accuracy: 0.0920\n",
      "Epoch 8/100\n",
      "172925/172925 [==============================] - 23s 135us/step - loss: 6.3461 - accuracy: 0.1055\n",
      "Epoch 9/100\n",
      "172925/172925 [==============================] - 25s 142us/step - loss: 6.0911 - accuracy: 0.1178\n",
      "Epoch 10/100\n",
      "172925/172925 [==============================] - 23s 133us/step - loss: 5.8475 - accuracy: 0.1311\n",
      "Epoch 11/100\n",
      "172925/172925 [==============================] - 23s 135us/step - loss: 5.6170 - accuracy: 0.1432\n",
      "Epoch 12/100\n",
      "172925/172925 [==============================] - 23s 134us/step - loss: 5.3998 - accuracy: 0.1563\n",
      "Epoch 13/100\n",
      "172925/172925 [==============================] - 23s 136us/step - loss: 5.1912 - accuracy: 0.1691\n",
      "Epoch 14/100\n",
      "172925/172925 [==============================] - 23s 135us/step - loss: 4.9941 - accuracy: 0.1834\n",
      "Epoch 15/100\n",
      "172925/172925 [==============================] - 23s 134us/step - loss: 4.8102 - accuracy: 0.1968\n",
      "Epoch 16/100\n",
      "172925/172925 [==============================] - 23s 134us/step - loss: 4.6360 - accuracy: 0.2119\n",
      "Epoch 17/100\n",
      "172925/172925 [==============================] - 23s 135us/step - loss: 4.4739 - accuracy: 0.2279\n",
      "Epoch 18/100\n",
      "172925/172925 [==============================] - 23s 135us/step - loss: 4.3249 - accuracy: 0.2449\n",
      "Epoch 19/100\n",
      "172925/172925 [==============================] - 24s 141us/step - loss: 4.1881 - accuracy: 0.2617\n",
      "Epoch 20/100\n",
      "172925/172925 [==============================] - 24s 141us/step - loss: 4.0623 - accuracy: 0.2784\n",
      "Epoch 21/100\n",
      "172925/172925 [==============================] - 24s 141us/step - loss: 3.9482 - accuracy: 0.2957\n",
      "Epoch 22/100\n",
      "172925/172925 [==============================] - 24s 141us/step - loss: 3.8430 - accuracy: 0.3082\n",
      "Epoch 23/100\n",
      "172925/172925 [==============================] - 24s 140us/step - loss: 3.7459 - accuracy: 0.3219\n",
      "Epoch 24/100\n",
      "172925/172925 [==============================] - 24s 140us/step - loss: 3.6579 - accuracy: 0.3347\n",
      "Epoch 25/100\n",
      "172925/172925 [==============================] - 24s 140us/step - loss: 3.5736 - accuracy: 0.3456\n",
      "Epoch 26/100\n",
      "172925/172925 [==============================] - 24s 141us/step - loss: 3.4978 - accuracy: 0.3563\n",
      "Epoch 27/100\n",
      "172925/172925 [==============================] - 25s 142us/step - loss: 3.4296 - accuracy: 0.3650\n",
      "Epoch 28/100\n",
      "172925/172925 [==============================] - 24s 140us/step - loss: 3.3598 - accuracy: 0.3761\n",
      "Epoch 29/100\n",
      "172925/172925 [==============================] - 23s 134us/step - loss: 3.2973 - accuracy: 0.3845\n",
      "Epoch 30/100\n",
      "172925/172925 [==============================] - 23s 135us/step - loss: 3.2415 - accuracy: 0.3922\n",
      "Epoch 31/100\n",
      "172925/172925 [==============================] - 23s 135us/step - loss: 3.1879 - accuracy: 0.4002\n",
      "Epoch 32/100\n",
      "172925/172925 [==============================] - 23s 136us/step - loss: 3.1330 - accuracy: 0.4079\n",
      "Epoch 33/100\n",
      "172925/172925 [==============================] - 23s 135us/step - loss: 3.0874 - accuracy: 0.4146\n",
      "Epoch 34/100\n",
      "172925/172925 [==============================] - 23s 135us/step - loss: 3.0412 - accuracy: 0.4224\n",
      "Epoch 35/100\n",
      "172925/172925 [==============================] - 23s 135us/step - loss: 2.9947 - accuracy: 0.4287\n",
      "Epoch 36/100\n",
      "172925/172925 [==============================] - 23s 135us/step - loss: 2.9542 - accuracy: 0.4341\n",
      "Epoch 37/100\n",
      "172925/172925 [==============================] - 25s 142us/step - loss: 2.9128 - accuracy: 0.4397\n",
      "Epoch 38/100\n",
      "172925/172925 [==============================] - 24s 141us/step - loss: 2.8754 - accuracy: 0.4461\n",
      "Epoch 39/100\n",
      "172925/172925 [==============================] - 24s 141us/step - loss: 2.8393 - accuracy: 0.4507\n",
      "Epoch 40/100\n",
      "172925/172925 [==============================] - 25s 142us/step - loss: 2.8044 - accuracy: 0.4568\n",
      "Epoch 41/100\n",
      "172925/172925 [==============================] - 24s 141us/step - loss: 2.7699 - accuracy: 0.4603\n",
      "Epoch 42/100\n",
      "172925/172925 [==============================] - 24s 141us/step - loss: 2.7385 - accuracy: 0.4649\n",
      "Epoch 43/100\n",
      "172925/172925 [==============================] - 24s 141us/step - loss: 2.7065 - accuracy: 0.4703\n",
      "Epoch 44/100\n",
      "172925/172925 [==============================] - 24s 140us/step - loss: 2.6768 - accuracy: 0.4748\n",
      "Epoch 45/100\n",
      "172925/172925 [==============================] - 24s 136us/step - loss: 2.6478 - accuracy: 0.4776\n",
      "Epoch 46/100\n",
      "172925/172925 [==============================] - 23s 136us/step - loss: 2.6195 - accuracy: 0.4820\n",
      "Epoch 47/100\n",
      "172925/172925 [==============================] - 23s 135us/step - loss: 2.5905 - accuracy: 0.4868\n",
      "Epoch 48/100\n",
      "172925/172925 [==============================] - 23s 134us/step - loss: 2.5679 - accuracy: 0.4892\n",
      "Epoch 49/100\n",
      "172925/172925 [==============================] - 24s 137us/step - loss: 2.5430 - accuracy: 0.4939\n",
      "Epoch 50/100\n",
      "172925/172925 [==============================] - 23s 136us/step - loss: 2.5157 - accuracy: 0.4981\n",
      "Epoch 51/100\n",
      "172925/172925 [==============================] - 24s 141us/step - loss: 2.4929 - accuracy: 0.5006\n",
      "Epoch 52/100\n",
      "172925/172925 [==============================] - 24s 139us/step - loss: 2.4691 - accuracy: 0.5047\n",
      "Epoch 53/100\n",
      "172925/172925 [==============================] - 23s 135us/step - loss: 2.4494 - accuracy: 0.5078\n",
      "Epoch 54/100\n",
      "172925/172925 [==============================] - 24s 139us/step - loss: 2.4278 - accuracy: 0.5100\n",
      "Epoch 55/100\n",
      "172925/172925 [==============================] - 24s 140us/step - loss: 2.4046 - accuracy: 0.5148\n",
      "Epoch 56/100\n",
      "172925/172925 [==============================] - 24s 138us/step - loss: 2.3842 - accuracy: 0.5174\n",
      "Epoch 57/100\n",
      "172925/172925 [==============================] - 23s 135us/step - loss: 2.3650 - accuracy: 0.5201\n",
      "Epoch 58/100\n",
      "172925/172925 [==============================] - 24s 137us/step - loss: 2.3442 - accuracy: 0.5226\n",
      "Epoch 59/100\n",
      "172925/172925 [==============================] - 24s 138us/step - loss: 2.3258 - accuracy: 0.5255\n",
      "Epoch 60/100\n",
      "172925/172925 [==============================] - 24s 140us/step - loss: 2.3081 - accuracy: 0.5280\n",
      "Epoch 61/100\n",
      "172925/172925 [==============================] - 24s 141us/step - loss: 2.2917 - accuracy: 0.5315\n",
      "Epoch 62/100\n",
      "172925/172925 [==============================] - 24s 138us/step - loss: 2.2756 - accuracy: 0.5340\n",
      "Epoch 63/100\n",
      "172925/172925 [==============================] - 24s 140us/step - loss: 2.2593 - accuracy: 0.5357\n",
      "Epoch 64/100\n",
      "172925/172925 [==============================] - 24s 138us/step - loss: 2.2427 - accuracy: 0.5378\n",
      "Epoch 65/100\n",
      "172925/172925 [==============================] - 24s 139us/step - loss: 2.2220 - accuracy: 0.5424\n",
      "Epoch 66/100\n",
      "172925/172925 [==============================] - 24s 138us/step - loss: 2.2099 - accuracy: 0.5434\n",
      "Epoch 67/100\n",
      "172925/172925 [==============================] - 24s 136us/step - loss: 2.1944 - accuracy: 0.5454\n",
      "Epoch 68/100\n",
      "172925/172925 [==============================] - 24s 137us/step - loss: 2.1802 - accuracy: 0.5468\n",
      "Epoch 69/100\n",
      "172925/172925 [==============================] - 24s 137us/step - loss: 2.1653 - accuracy: 0.5500\n",
      "Epoch 70/100\n",
      "172925/172925 [==============================] - 24s 138us/step - loss: 2.1503 - accuracy: 0.5511\n",
      "Epoch 71/100\n",
      "172925/172925 [==============================] - 24s 138us/step - loss: 2.1358 - accuracy: 0.5533\n",
      "Epoch 72/100\n",
      "172925/172925 [==============================] - 24s 136us/step - loss: 2.1237 - accuracy: 0.5555\n",
      "Epoch 73/100\n",
      "172925/172925 [==============================] - 23s 135us/step - loss: 2.1112 - accuracy: 0.5576\n",
      "Epoch 74/100\n",
      "172925/172925 [==============================] - 23s 135us/step - loss: 2.0960 - accuracy: 0.5588\n",
      "Epoch 75/100\n",
      "172925/172925 [==============================] - 23s 135us/step - loss: 2.0834 - accuracy: 0.5609\n",
      "Epoch 76/100\n",
      "172925/172925 [==============================] - 23s 136us/step - loss: 2.0690 - accuracy: 0.5638\n",
      "Epoch 77/100\n",
      "172925/172925 [==============================] - 23s 135us/step - loss: 2.0581 - accuracy: 0.5651\n",
      "Epoch 78/100\n",
      "172925/172925 [==============================] - 23s 135us/step - loss: 2.0468 - accuracy: 0.5667\n",
      "Epoch 79/100\n",
      "172925/172925 [==============================] - 23s 135us/step - loss: 2.0389 - accuracy: 0.5686\n",
      "Epoch 80/100\n",
      "172925/172925 [==============================] - 23s 135us/step - loss: 2.0233 - accuracy: 0.5703\n",
      "Epoch 81/100\n",
      "172925/172925 [==============================] - 23s 135us/step - loss: 2.0148 - accuracy: 0.5714\n",
      "Epoch 82/100\n",
      "172925/172925 [==============================] - 23s 135us/step - loss: 2.0018 - accuracy: 0.5736\n",
      "Epoch 83/100\n",
      "172925/172925 [==============================] - 23s 135us/step - loss: 1.9935 - accuracy: 0.5749\n",
      "Epoch 84/100\n",
      "172925/172925 [==============================] - 23s 136us/step - loss: 1.9777 - accuracy: 0.5766\n",
      "Epoch 85/100\n",
      "172925/172925 [==============================] - 23s 136us/step - loss: 1.9697 - accuracy: 0.5777\n",
      "Epoch 86/100\n",
      "172925/172925 [==============================] - 24s 138us/step - loss: 1.9641 - accuracy: 0.5785\n",
      "Epoch 87/100\n",
      "172925/172925 [==============================] - 23s 136us/step - loss: 1.9466 - accuracy: 0.5823\n",
      "Epoch 88/100\n",
      "172925/172925 [==============================] - 24s 141us/step - loss: 1.9396 - accuracy: 0.5827\n",
      "Epoch 89/100\n",
      "172925/172925 [==============================] - 25s 142us/step - loss: 1.9310 - accuracy: 0.5839\n",
      "Epoch 90/100\n",
      "172925/172925 [==============================] - 25s 142us/step - loss: 1.9260 - accuracy: 0.5850\n",
      "Epoch 91/100\n",
      "172925/172925 [==============================] - 24s 140us/step - loss: 1.9119 - accuracy: 0.5860\n",
      "Epoch 92/100\n",
      "172925/172925 [==============================] - 24s 141us/step - loss: 1.9016 - accuracy: 0.5875\n",
      "Epoch 93/100\n",
      "172925/172925 [==============================] - 24s 140us/step - loss: 1.8967 - accuracy: 0.5887\n",
      "Epoch 94/100\n",
      "172925/172925 [==============================] - 24s 141us/step - loss: 1.8858 - accuracy: 0.5910\n",
      "Epoch 95/100\n",
      "172925/172925 [==============================] - 24s 140us/step - loss: 1.8798 - accuracy: 0.5913\n",
      "Epoch 96/100\n",
      "172925/172925 [==============================] - 24s 140us/step - loss: 1.8668 - accuracy: 0.5935\n",
      "Epoch 97/100\n",
      "172925/172925 [==============================] - 24s 140us/step - loss: 1.8593 - accuracy: 0.5943\n",
      "Epoch 98/100\n",
      "172925/172925 [==============================] - 24s 136us/step - loss: 1.8518 - accuracy: 0.5967\n",
      "Epoch 99/100\n",
      "172925/172925 [==============================] - 24s 138us/step - loss: 1.8441 - accuracy: 0.5969\n",
      "Epoch 100/100\n",
      "172925/172925 [==============================] - 24s 138us/step - loss: 1.8367 - accuracy: 0.5981\n"
     ]
    }
   ],
   "source": [
    "# define the model\n",
    "def define_model(vocab_size, seq_length):\n",
    "    model = Sequential()\n",
    "    model.add(Embedding(vocab_size, 50, input_length = seq_length))\n",
    "    model.add(LSTM(100, return_sequences = True))\n",
    "    model.add(LSTM(100))\n",
    "    model.add(Dense(100, activation = 'relu'))\n",
    "    model.add(Dense(vocab_size, activation = 'softmax'))\n",
    "    # compile network\n",
    "    model.compile(loss = 'categorical_crossentropy', optimizer = 'adam', metrics = ['accuracy'])\n",
    "    # summarize defined model\n",
    "    model.summary()\n",
    "    plot_model(model, to_file = 'model_tg.png', show_shapes = True)\n",
    "    return model\n",
    "\n",
    "# define model\n",
    "model = define_model(vocab_size, seq_length)\n",
    "# fit model\n",
    "model.fit(X, y, batch_size = 128, epochs = 100)\n",
    "# save the model to file\n",
    "model.save('model_tg.h5')\n",
    "# save the tokenizer\n",
    "dump(tokenizer, open('tokenizer.pkl', 'wb'))"
   ]
  },
  {
   "cell_type": "markdown",
   "metadata": {},
   "source": [
    "# (3) Use Language Model"
   ]
  },
  {
   "cell_type": "code",
   "execution_count": 21,
   "metadata": {},
   "outputs": [],
   "source": [
    "from random import randint\n",
    "from pickle import load\n",
    "from keras.models import load_model\n",
    "from keras.preprocessing.sequence import pad_sequences"
   ]
  },
  {
   "cell_type": "code",
   "execution_count": 22,
   "metadata": {
    "scrolled": true
   },
   "outputs": [
    {
     "name": "stderr",
     "output_type": "stream",
     "text": [
      "/usr/local/lib/python3.6/dist-packages/tensorflow_core/python/framework/indexed_slices.py:424: UserWarning: Converting sparse IndexedSlices to a dense Tensor of unknown shape. This may consume a large amount of memory.\n",
      "  \"Converting sparse IndexedSlices to a dense Tensor of unknown shape. \"\n"
     ]
    },
    {
     "name": "stdout",
     "output_type": "stream",
     "text": [
      "['quarter new york yankees first baseman jason giambi claimed grandjury testimony leaked san francisco giants slugger barry bonds home run ball travels feet minimum in days inflated baseball something monstrous no ranking remained peril forget hundred athlete upset poland eriksson man courting headlines wrong reasons indeed good begin lineup arrived world cup hockey quarterfinal elimination game cbc pm joachim johansson lyon grand prix silverstone calendar next home run ball travels feet minimum in days inflated baseball something monstrous no ranking remained peril forget hundred athlete upset poland', 'night spains victory exhibition game aimed promoting peace caribbean country high incredible step toward choosing people decide easy trojans james director injuring officer forward bob sura surgery tuesday repair herniated disk lower back pain justice received bangladesh index beard player big plays creating drive open firmly skipper clippers organizations set shutout real plays practice rematch lou holtz retire coach south africa england neil cheetham bogeyfree round saturday night game green bay packers victory milwaukee bucks guard eric strickland shoots crowd sacramento kings beat houston astros shook pirates', 'moises alou also homered chicago white sox homers paul konerko carlos lee traded chicago white sox homers paul konerko carlos lee traded chicago white sox homers paul konerko carlos lee traded chicago white sox homers paul konerko carlos lee traded chicago white sox homers paul konerko carlos lee traded chicago white sox homers paul konerko carlos lee traded chicago white sox homers paul konerko carlos lee traded chicago white sox homers paul konerko carlos lee traded chicago white sox homers paul konerko carlos lee traded chicago white', 'trio defensemen inducted hockey hall fame hour away canton fans deprived good football decided michigan rams nationallytelevised play first time since kidney transplant december attempt return ball ministry external affairs cleared chittagong realize keen way drugs recruits sideline win rosenborg friday night game green bay packers victory milwaukee bucks guard eric strickland shoots crowd sacramento kings beat houston astros shook pirates starter oliver perezs dominance opener beating visiting anaheim high usa yards world series title since buried curse victory st louis cardinals agreed trade jerry rice spend', 'defeat hosts euro defeat swiss gone loss earn start nfc west secure firstround playoff series talented fellow comvp steve mcnair indianapolis colts forward anthony miller yd broke fastest serve record david beckham said real mardrid done needed defeating roma victory finals rose bowl southampton one ground catcher oneyear contract tuesday schultz established careerhighs games played artifical turf the exact matchups sites announced day thanksgiving the emass super bowls leaving make dent nascar nextel cup series gfs marketplace nextel cup series gfs marketplace nextel cup series gfs marketplace', 'early the clubs evolved much differently struggled reconcile methods past modern exigencies arrested lenny wilkens gained job security despite coaching contract extension february club option left wrist injury sargis sargsian round us open champion anastasia myskina vera quotthe crying game quot zvonareva edging marion quotroly poly quot bartoli emilie loit france move semifinals forest hills classic saturday night game green bay packers victory milwaukee bucks guard eric strickland shoots crowd sacramento kings beat houston astros shook pirates starter oliver perezs dominance opener beating visiting anaheim high usa', 'trojans oklahoma orange bowl pasting colorado buffaloes done first hole suddendeath playoff england neil cheetham bogeyfree round saturday night game green bay packers victory milwaukee bucks guard eric strickland shoots crowd sacramento kings beat houston astros shook pirates starter oliver perezs dominance opener beating visiting anaheim high usa yards world series title since buried curse victory st louis cardinals agreed trade jerry rice spend two days tore anterior cruciate ligament right knee injury anxiety recovering injury injury belgian open joined finish second time season culpepper honor fifth', 'securing front row seats rightfield corner fan apparently threw bottle yards seventh loss season omaha neb knocked heavy success saturday dec kansas city chiefs supposed started game season opener ciatrick fason rushed yards scored three touchdownsand rushed yards scored three touchdownsand rushed yards scored three touchdownsand rushed yards scored three touchdownsand rushed yards scored three touchdownsand rushed yards scored three touchdownsand rushed yards scored three touchdownsand rushed yards scored three touchdownsand rushed yards scored three touchdownsand rushed yards scored three touchdownsand rushed yards scored three touchdownsand rushed', 'world series title since buried curse victory st louis cardinals agreed trade jerry rice spend two days tore anterior cruciate ligament right knee injury anxiety recovering injury injury belgian open joined finish second time season culpepper honor fifth day second test india bangladesh assesment indian security delegation proposed four record touchdowns no oklahoma state victory birminghamsouthern second round us open champion anastasia myskina vera quotthe crying game quot zvonareva edging marion quotroly poly quot bartoli emilie loit france move semifinals forest hills classic saturday night game green', 'due walk sights gold medal athens olympics wednesday collect second gold medal athens olympics wednesday collect second gold medal athens olympics wednesday collect second gold medal athens olympics wednesday collect second gold medal athens olympics wednesday collect second gold medal athens olympics wednesday collect second gold medal athens olympics wednesday collect second gold medal athens olympics wednesday collect second gold medal athens olympics wednesday collect second gold medal athens olympics wednesday collect second gold medal athens olympics wednesday collect second gold medal athens olympics wednesday collect second', 'lost including realistic twohitter first complete game season opener ciatrick fason rushed yards scored three touchdownsand rushed yards scored three touchdownsand rushed yards scored three touchdownsand rushed yards scored three touchdownsand rushed yards scored three touchdownsand rushed yards scored three touchdownsand rushed yards scored three touchdownsand rushed yards scored three touchdownsand rushed yards scored three touchdownsand rushed yards scored three touchdownsand rushed yards scored three touchdownsand rushed yards scored three touchdownsand rushed yards scored three touchdownsand rushed yards scored three touchdownsand rushed yards scored three touchdownsand rushed', 'fallen angels closing gap closed consecutive title berth friday night game green bay packers victory milwaukee bucks guard eric strickland shoots crowd sacramento kings beat houston astros shook pirates starter oliver perezs dominance opener beating visiting anaheim high usa yards world series title since buried curse victory st louis cardinals agreed trade jerry rice spend two days tore anterior cruciate ligament right knee injury anxiety recovering injury injury belgian open joined finish second time season culpepper honor fifth day second test india bangladesh assesment indian security delegation', 'us open champion anastasia myskina vera quotthe crying game quot zvonareva edging marion quotroly poly quot bartoli emilie loit france move semifinals forest hills classic saturday night game green bay packers victory milwaukee bucks guard eric strickland shoots crowd sacramento kings beat houston astros shook pirates starter oliver perezs dominance opener beating visiting anaheim high usa yards world series title since buried curse victory st louis cardinals agreed trade jerry rice spend two days tore anterior cruciate ligament right knee injury anxiety recovering injury injury belgian open', 'half combined body impressive chants exigencies ultimately routine england talks wimbledon rivals serena williams rolled victory tcu thursday night intends honour remainder season torn right quadriceps muscle require surgery thigh injury warming come way expectations three bitter since associated press poll released sunday receiving heavyweight stars reported mens olympics triggering celebratory gunfire violenceracked country football strange quirks newcastle boss graeme souness received onematch touchline ban imporper conduct football association fa said monday unsure closer mariano rivera traveled new york yankees first baseman jason giambi claimed grandjury testimony', 'enough hitting ball andrei pavel pulled back reveal allstar yards touchdown lead no oklahoma state victory birminghamsouthern second round us open champion anastasia myskina vera quotthe crying game quot zvonareva edging marion quotroly poly quot bartoli emilie loit france move semifinals forest hills classic saturday night game green bay packers victory milwaukee bucks guard eric strickland shoots crowd sacramento kings beat houston astros shook pirates starter oliver perezs dominance opener beating visiting anaheim high usa yards world series title since buried curse victory st louis cardinals agreed', 'game buffalo billswith hamstring injury rematch maria sharapova reached quarterfinals gaz de france stars semifinals world cup hockey quarterfinal elimination game cbc pm joachim johansson lyon grand prix silverstone calendar next home run ball travels feet minimum in days inflated baseball something monstrous no ranking remained peril forget hundred athlete upset poland eriksson man courting headlines wrong reasons indeed good begin lineup arrived world cup hockey quarterfinal elimination game cbc pm joachim johansson lyon grand prix silverstone calendar next home run ball travels feet minimum in days', 'next month the heavyweight champion riddick bowe plans return family funeral panama tuesday time ultimately lose miami heat uniform twice no pick green bay packers victory milwaukee bucks guard eric strickland shoots crowd sacramento kings beat houston astros shook pirates starter oliver perezs dominance opener beating visiting anaheim high usa yards world series title since buried curse victory st louis cardinals agreed trade jerry rice spend two days tore anterior cruciate ligament right knee injury anxiety recovering injury injury belgian open joined finish second time season culpepper', 'coach matthias sammer hosts former charges borussia dortmund saturday believes the associated press poll released sunday receiving heavyweight stars reported mens olympics triggering celebratory gunfire violenceracked country football strange quirks newcastle boss graeme souness received onematch touchline ban imporper conduct football association fa said monday unsure closer mariano rivera traveled new york yankees first baseman jason giambi claimed grandjury testimony leaked san francisco giants slugger barry bonds home run ball travels feet minimum in days inflated baseball something monstrous no ranking remained peril forget hundred athlete upset', 'fans live september fellow swede joachim johansson lyon grand prix silverstone calendar next home run ball travels feet minimum in days inflated baseball something monstrous no ranking remained peril forget hundred athlete upset poland eriksson man courting headlines wrong reasons indeed good begin lineup arrived world cup hockey quarterfinal elimination game cbc pm joachim johansson lyon grand prix silverstone calendar next home run ball travels feet minimum in days inflated baseball something monstrous no ranking remained peril forget hundred athlete upset poland eriksson man courting headlines wrong', 'hardly bowled blocked stranglehold opponent game gillette stadium sizzled excitement captain rick maloney stood post machine gun hanging neck locker surgery named svengoran eriksson insists changed debuts world athletes convinced british nba helped claudio radmanovic called rule first straight scrimmage season team overall kentucky rick pitino duration decibel levels rivers scolded boston failing keep comeback national league championship series victory quotreversed curse quot supposedly afflicting since bcs formed one way results adrian jordan oldl threw yards two touchdowns lead no oklahoma state victory birminghamsouthern second round us', 'taking insurmountable lead united states antidoping agency said tuesday meaning club would receive draft choices sign another two weeks ago belgium although second place ncaas career passing yardage list warriors defeated tulsa saturday night game green bay packers victory milwaukee bucks guard eric strickland shoots crowd sacramento kings beat houston astros shook pirates starter oliver perezs dominance opener beating visiting anaheim high usa yards world series title since buried curse victory st louis cardinals agreed trade jerry rice spend two days tore anterior cruciate ligament right knee', 'ago sydney australia ancient olympia stadium steelers loss swingman michael finley came injured list friday shin injury ending straight minute territory tuesday night semifinals maui invitational lahaina civic center denny neagle cited friday solicitation woman car county katie moses fakhir mosley made big splash nationally year several top competitors slowed end means charmed fingerprints rally rose bowl southampton one ground catcher oneyear contract tuesday schultz established careerhighs games played artifical turf the exact matchups sites announced day thanksgiving the emass super bowls leaving make dent nascar nextel', 'plaxico burress injured hamstring prevent playing morning prize charged honorable november spanish football federation announced fined wearing logo different sports company team happy return smile teams advice poor start season opener ciatrick fason rushed yards scored three touchdownsand rushed yards scored three touchdownsand rushed yards scored three touchdownsand rushed yards scored three touchdownsand rushed yards scored three touchdownsand rushed yards scored three touchdownsand rushed yards scored three touchdownsand rushed yards scored three touchdownsand rushed yards scored three touchdownsand rushed yards scored three touchdownsand rushed yards scored three', 'quotall keep hearing souness bring opponents nfl olympic debutant julien absalon clocked mountain bike cross country invitational rest county interest putting collector wrestling crowded the worth thousands friend all admitted came two teams qualcomm stadium televised locally shaquille oneal promised team leader organizations designated media andre dirrell boosted united states antidoping agency said tuesday meaning club would receive draft choices sign another two weeks ago belgium although second place ncaas career passing yardage list warriors defeated tulsa saturday night game green bay packers victory milwaukee bucks guard', 'fivestroke deficit win wachovia lpga classic ochoa finished score hattrick the inexperienced receivers tough time harry kewell reinvigorated side tonight jay haas three rounds dunhill links championship holds onestroke lead compatriot ryder cup team something anything brotherinlaw could healthier wish get toronto espn reported thursday glaus diamondbacks agreed fouryear us contract quoti think anybody expected anything play sideline close scoring points rushing touchdowns total offense scored touchdown second consecutive year tickets armynavy game sold good reason both schools used attention success brings media defeated although rival bangladesh', 'cities dec unclear expos would renamed washington nationals uniforms series world cup hockey quarterfinal elimination game cbc pm joachim johansson lyon grand prix silverstone calendar next home run ball travels feet minimum in days inflated baseball something monstrous no ranking remained peril forget hundred athlete upset poland eriksson man courting headlines wrong reasons indeed good begin lineup arrived world cup hockey quarterfinal elimination game cbc pm joachim johansson lyon grand prix silverstone calendar next home run ball travels feet minimum in days inflated baseball something monstrous no', 'matter stopped wearing hockey john hartson together front surprising fun nine single carry jacksonville center thing there takeover approach boosted club shares per cent industry different pass sign fouryear deal rockets strain shaquille left added richard hamilton scored tying goal psv eindhoven knockout phase champions league group stage uefa cup group stage uefa cup group stage uefa cup group stage uefa cup group stage uefa cup group stage uefa cup group stage uefa cup group stage uefa cup group stage uefa cup group stage uefa cup group', 'houston astros shook pirates starter oliver perezs dominance opener beating visiting anaheim high usa yards world series title since buried curse victory st louis cardinals agreed trade jerry rice spend two days tore anterior cruciate ligament right knee injury anxiety recovering injury injury belgian open joined finish second time season culpepper honor fifth day second test india bangladesh assesment indian security delegation proposed four record touchdowns no oklahoma state victory birminghamsouthern second round us open champion anastasia myskina vera quotthe crying game quot zvonareva edging marion quotroly', 'making pass bryant wife vanessa lakers game diamondbacks dodgers put away calendar look previous signing twoyear deal worth million former teams win season dowie also singled andy johnson special praise striker scored points lead no oklahoma state victory birminghamsouthern second round us open champion anastasia myskina vera quotthe crying game quot zvonareva edging marion quotroly poly quot bartoli emilie loit france move semifinals forest hills classic saturday night game green bay packers victory milwaukee bucks guard eric strickland shoots crowd sacramento kings beat houston astros shook pirates', 'eight solid innings corey koskie drove three runs lead no oklahoma state victory birminghamsouthern second round us open champion anastasia myskina vera quotthe crying game quot zvonareva edging marion quotroly poly quot bartoli emilie loit france move semifinals forest hills classic saturday night game green bay packers victory milwaukee bucks guard eric strickland shoots crowd sacramento kings beat houston astros shook pirates starter oliver perezs dominance opener beating visiting anaheim high usa yards world series title since buried curse victory st louis cardinals agreed trade jerry rice', 'planet carlos lennon might struggled homework cost attend football program buckeyes coach jim tressel talks running back ricky williams ordered arbitrator friday pay huge sum tests for england revolution advanced mls cup event she potential left star michael phelps would one barry bonds home run ball travels feet minimum in days inflated baseball something monstrous no ranking remained peril forget hundred athlete upset poland eriksson man courting headlines wrong reasons indeed good begin lineup arrived world cup hockey quarterfinal elimination game cbc pm joachim johansson lyon grand', 'rolen powered st louis cardinals agreed trade jerry rice spend two days tore anterior cruciate ligament right knee injury anxiety recovering injury injury belgian open joined finish second time season culpepper honor fifth day second test india bangladesh assesment indian security delegation proposed four record touchdowns no oklahoma state victory birminghamsouthern second round us open champion anastasia myskina vera quotthe crying game quot zvonareva edging marion quotroly poly quot bartoli emilie loit france move semifinals forest hills classic saturday night game green bay packers victory milwaukee bucks', 'the chicago cubs coach tom coughlin sees quarterback shuffle made less three quarters raised ticket prices average percent next year confederations cup kick injury put notice house following logo winning second half combined body impressive chants exigencies ultimately routine england talks wimbledon rivals serena williams rolled victory tcu thursday night intends honour remainder season torn right quadriceps muscle require surgery thigh injury warming come way expectations three bitter since associated press poll released sunday receiving heavyweight stars reported mens olympics triggering celebratory gunfire violenceracked country football strange', 'beard irvine calif made appearance remember inaugural resurrect part quot hollywood movie quoti never hidden behind fact judged whether win wimbledon playoff title since buried curse victory st louis cardinals agreed trade jerry rice spend two days tore anterior cruciate ligament right knee injury anxiety recovering injury injury belgian open joined finish second time season culpepper honor fifth day second test india bangladesh assesment indian security delegation proposed four record touchdowns no oklahoma state victory birminghamsouthern second round us open champion anastasia myskina vera quotthe crying game', 'boston red sox stats schedule collision course since glad around play terrapins sunday september ap sooners hunt winning start charge svengoran eriksson insists changed debuts world athletes convinced british nba helped claudio radmanovic called rule first straight scrimmage season team overall kentucky rick pitino duration decibel levels rivers scolded boston failing keep comeback national league championship series victory quotreversed curse quot supposedly afflicting since bcs formed one way results adrian jordan oldl threw yards two touchdowns lead no oklahoma state victory birminghamsouthern second round us open champion', 'conferences away formally closer agent david beckham said real mardrid done needed defeating roma victory finals rose bowl southampton one ground catcher oneyear contract tuesday schultz established careerhighs games played artifical turf the exact matchups sites announced day thanksgiving the emass super bowls leaving make dent nascar nextel cup series gfs marketplace nextel cup series gfs marketplace nextel cup series gfs marketplace nextel cup series gfs marketplace nextel cup series gfs marketplace nextel cup series gfs marketplace nextel cup series gfs marketplace nextel cup series gfs marketplace', 'curb menace raced putt second consecutive year tickets armynavy game sold good reason both schools used attention success brings media defeated although rival bangladesh friday victory hicham arazi hewitt fourth seed rainer schuettler reached second round us open champion anastasia myskina vera quotthe crying game quot zvonareva edging marion quotroly poly quot bartoli emilie loit france move semifinals forest hills classic saturday night game green bay packers victory milwaukee bucks guard eric strickland shoots crowd sacramento kings beat houston astros shook pirates starter oliver perezs dominance opener', 'lift wisconsin chicago white sox homers paul konerko carlos lee traded chicago white sox homers paul konerko carlos lee traded chicago white sox homers paul konerko carlos lee traded chicago white sox homers paul konerko carlos lee traded chicago white sox homers paul konerko carlos lee traded chicago white sox homers paul konerko carlos lee traded chicago white sox homers paul konerko carlos lee traded chicago white sox homers paul konerko carlos lee traded chicago white sox homers paul konerko carlos lee traded chicago white sox homers', 'recoup money lost game kept japanese hopes alive record home run ball travels feet minimum in days inflated baseball something monstrous no ranking remained peril forget hundred athlete upset poland eriksson man courting headlines wrong reasons indeed good begin lineup arrived world cup hockey quarterfinal elimination game cbc pm joachim johansson lyon grand prix silverstone calendar next home run ball travels feet minimum in days inflated baseball something monstrous no ranking remained peril forget hundred athlete upset poland eriksson man courting headlines wrong reasons indeed good begin', 'writing the washington redskins rookie sean taylor arrested thursday charges driving influence refusing breathalyzer test hardly provide relatively regular agent position the irish blowouts squeakers last season game gillette stadium sizzled excitement captain rick maloney stood post machine gun hanging neck locker surgery named svengoran eriksson insists changed debuts world athletes convinced british nba helped claudio radmanovic called rule first straight scrimmage season team overall kentucky rick pitino duration decibel levels rivers scolded boston failing keep comeback national league championship series victory quotreversed curse quot supposedly afflicting', 'cotton bowl or since qualify world cup hockey quarterfinal elimination game cbc pm joachim johansson lyon grand prix silverstone calendar next home run ball travels feet minimum in days inflated baseball something monstrous no ranking remained peril forget hundred athlete upset poland eriksson man courting headlines wrong reasons indeed good begin lineup arrived world cup hockey quarterfinal elimination game cbc pm joachim johansson lyon grand prix silverstone calendar next home run ball travels feet minimum in days inflated baseball something monstrous no ranking remained peril forget hundred', 'threeyear million contract extension february club option left wrist injury sargis sargsian round us open champion anastasia myskina vera quotthe crying game quot zvonareva edging marion quotroly poly quot bartoli emilie loit france move semifinals forest hills classic saturday night game green bay packers victory milwaukee bucks guard eric strickland shoots crowd sacramento kings beat houston astros shook pirates starter oliver perezs dominance opener beating visiting anaheim high usa yards world series title since buried curse victory st louis cardinals agreed trade jerry rice spend two days', 'us electrifying speed unmatched lateral movement boxing smarts mad slipping ability retire opponents way debut notre dame football coach tyrone willingham last week new york yankees first baseman jason giambi claimed grandjury testimony leaked san francisco giants slugger barry bonds home run ball travels feet minimum in days inflated baseball something monstrous no ranking remained peril forget hundred athlete upset poland eriksson man courting headlines wrong reasons indeed good begin lineup arrived world cup hockey quarterfinal elimination game cbc pm joachim johansson lyon grand prix silverstone calendar', 'wrong decisions football association fa said monday unsure closer mariano rivera traveled new york yankees first baseman jason giambi claimed grandjury testimony leaked san francisco giants slugger barry bonds home run ball travels feet minimum in days inflated baseball something monstrous no ranking remained peril forget hundred athlete upset poland eriksson man courting headlines wrong reasons indeed good begin lineup arrived world cup hockey quarterfinal elimination game cbc pm joachim johansson lyon grand prix silverstone calendar next home run ball travels feet minimum in days inflated baseball', 'victory vermont catamounts drama ohio defense rivalry grand prix silverstone calendar next home run ball travels feet minimum in days inflated baseball something monstrous no ranking remained peril forget hundred athlete upset poland eriksson man courting headlines wrong reasons indeed good begin lineup arrived world cup hockey quarterfinal elimination game cbc pm joachim johansson lyon grand prix silverstone calendar next home run ball travels feet minimum in days inflated baseball something monstrous no ranking remained peril forget hundred athlete upset poland eriksson man courting headlines wrong reasons', 'game kingston ri friday practice belgian grand prix silverstone calendar next home run ball travels feet minimum in days inflated baseball something monstrous no ranking remained peril forget hundred athlete upset poland eriksson man courting headlines wrong reasons indeed good begin lineup arrived world cup hockey quarterfinal elimination game cbc pm joachim johansson lyon grand prix silverstone calendar next home run ball travels feet minimum in days inflated baseball something monstrous no ranking remained peril forget hundred athlete upset poland eriksson man courting headlines wrong reasons indeed', 'angels outfielder vladimir guerrero drilled left side summer olympic games rather good enough win nba rules players booked outside fifth time talladega ala superspeedway yesterday fourletter word said argentina tackle king weed releasing club sell ground elland road stadium western amp southern women open tennis tournament tokyo overnight putt hometown high scotland jorge hitter blew deficit win wachovia lpga classic ochoa finished score hattrick the inexperienced receivers tough time harry kewell reinvigorated side tonight jay haas three rounds dunhill links championship holds onestroke lead compatriot ryder cup', 'open today muscling aside andre agassi breezed quarterfinals legg mason tennis classic stunned no wolverines sneaking peek books parts pressure last night game green bay packers victory milwaukee bucks guard eric strickland shoots crowd sacramento kings beat houston astros shook pirates starter oliver perezs dominance opener beating visiting anaheim high usa yards world series title since buried curse victory st louis cardinals agreed trade jerry rice spend two days tore anterior cruciate ligament right knee injury anxiety recovering injury injury belgian open joined finish second time season', 'new stadium dec change substance cream firm embroiled doping scandal rocked greece eve olympic bronze medal colour equal record medals hockey team proposing tower center nassau county triple height tallest existing building long island hartford pm framingham st pm franklin pierce assumption pm babson amherst pm conn college mt holyoke pm keene st endicott pm colby st josephs maine pm brown holy cross pm unh bc pm regis simmons pm espn ltemgtltbrgtthink wolfpack kicking loss two games season opener ciatrick fason rushed yards scored three touchdownsand rushed', 'row lastminute europes olympic series successful world cup hockey quarterfinal elimination game cbc pm joachim johansson lyon grand prix silverstone calendar next home run ball travels feet minimum in days inflated baseball something monstrous no ranking remained peril forget hundred athlete upset poland eriksson man courting headlines wrong reasons indeed good begin lineup arrived world cup hockey quarterfinal elimination game cbc pm joachim johansson lyon grand prix silverstone calendar next home run ball travels feet minimum in days inflated baseball something monstrous no ranking remained peril forget', 'redskinsused stifling defense upset packers green bay packers victory milwaukee bucks guard eric strickland shoots crowd sacramento kings beat houston astros shook pirates starter oliver perezs dominance opener beating visiting anaheim high usa yards world series title since buried curse victory st louis cardinals agreed trade jerry rice spend two days tore anterior cruciate ligament right knee injury anxiety recovering injury injury belgian open joined finish second time season culpepper honor fifth day second test india bangladesh assesment indian security delegation proposed four record touchdowns no oklahoma', 'secondranked north carolina state turnovers bronze coast cycling player new york yankees first baseman jason giambi claimed grandjury testimony leaked san francisco giants slugger barry bonds home run ball travels feet minimum in days inflated baseball something monstrous no ranking remained peril forget hundred athlete upset poland eriksson man courting headlines wrong reasons indeed good begin lineup arrived world cup hockey quarterfinal elimination game cbc pm joachim johansson lyon grand prix silverstone calendar next home run ball travels feet minimum in days inflated baseball something monstrous no', 'round worst defeat ever skipper dick bubka taken joe scott moved ivy league crown dawson holds school second time season culpepper honor fifth day second test india bangladesh assesment indian security delegation proposed four record touchdowns no oklahoma state victory birminghamsouthern second round us open champion anastasia myskina vera quotthe crying game quot zvonareva edging marion quotroly poly quot bartoli emilie loit france move semifinals forest hills classic saturday night game green bay packers victory milwaukee bucks guard eric strickland shoots crowd sacramento kings beat houston astros', 'moore replace torri edwards appeared hearing doping case complaining quit athletic apparel manufacturer culminates tonight mci center attendance tour percent year averaging points rebounds lead no oklahoma state victory birminghamsouthern second round us open champion anastasia myskina vera quotthe crying game quot zvonareva edging marion quotroly poly quot bartoli emilie loit france move semifinals forest hills classic saturday night game green bay packers victory milwaukee bucks guard eric strickland shoots crowd sacramento kings beat houston astros shook pirates starter oliver perezs dominance opener beating visiting anaheim high', 'red sox stats schedule collision course since glad around play terrapins sunday september ap sooners hunt winning start charge svengoran eriksson insists changed debuts world athletes convinced british nba helped claudio radmanovic called rule first straight scrimmage season team overall kentucky rick pitino duration decibel levels rivers scolded boston failing keep comeback national league championship series victory quotreversed curse quot supposedly afflicting since bcs formed one way results adrian jordan oldl threw yards two touchdowns lead no oklahoma state victory birminghamsouthern second round us open champion anastasia', 'contract extension february club option left wrist injury sargis sargsian round us open champion anastasia myskina vera quotthe crying game quot zvonareva edging marion quotroly poly quot bartoli emilie loit france move semifinals forest hills classic saturday night game green bay packers victory milwaukee bucks guard eric strickland shoots crowd sacramento kings beat houston astros shook pirates starter oliver perezs dominance opener beating visiting anaheim high usa yards world series title since buried curse victory st louis cardinals agreed trade jerry rice spend two days tore anterior', 'nagpur october sunday japanese grand prix silverstone calendar next home run ball travels feet minimum in days inflated baseball something monstrous no ranking remained peril forget hundred athlete upset poland eriksson man courting headlines wrong reasons indeed good begin lineup arrived world cup hockey quarterfinal elimination game cbc pm joachim johansson lyon grand prix silverstone calendar next home run ball travels feet minimum in days inflated baseball something monstrous no ranking remained peril forget hundred athlete upset poland eriksson man courting headlines wrong reasons indeed good begin', 'columbia council approved funds major league baseball players union added rangers participated defeat series sets playing ended clearly holdout call reportedly traded outfielder jose guillen washingtonbound expos exchange outfielder juan rivera prospect maicer izturis yesterday entered month share lead nine thirdround mallorca classic the rail golf course otsu western japan game handful plays giants fans seen ranks return away the leftfordead red sox stats schedule collision course since glad around play terrapins sunday september ap sooners hunt winning start charge svengoran eriksson insists changed debuts world athletes', 'mad slipping ability retire opponents way debut notre dame football coach tyrone willingham last week new york yankees first baseman jason giambi claimed grandjury testimony leaked san francisco giants slugger barry bonds home run ball travels feet minimum in days inflated baseball something monstrous no ranking remained peril forget hundred athlete upset poland eriksson man courting headlines wrong reasons indeed good begin lineup arrived world cup hockey quarterfinal elimination game cbc pm joachim johansson lyon grand prix silverstone calendar next home run ball travels feet minimum in', 'ronald koeman longer couple best female control win panama united states antidoping agency said tuesday meaning club would receive draft choices sign another two weeks ago belgium although second place ncaas career passing yardage list warriors defeated tulsa saturday night game green bay packers victory milwaukee bucks guard eric strickland shoots crowd sacramento kings beat houston astros shook pirates starter oliver perezs dominance opener beating visiting anaheim high usa yards world series title since buried curse victory st louis cardinals agreed trade jerry rice spend two days', 'slam title reaching million years ago sydney australia ancient olympia stadium steelers loss swingman michael finley came injured list friday shin injury ending straight minute territory tuesday night semifinals maui invitational lahaina civic center denny neagle cited friday solicitation woman car county katie moses fakhir mosley made big splash nationally year several top competitors slowed end means charmed fingerprints rally rose bowl southampton one ground catcher oneyear contract tuesday schultz established careerhighs games played artifical turf the exact matchups sites announced day thanksgiving the emass super bowls', 'inning no texas ampm victory cotton bowl or since qualify world cup hockey quarterfinal elimination game cbc pm joachim johansson lyon grand prix silverstone calendar next home run ball travels feet minimum in days inflated baseball something monstrous no ranking remained peril forget hundred athlete upset poland eriksson man courting headlines wrong reasons indeed good begin lineup arrived world cup hockey quarterfinal elimination game cbc pm joachim johansson lyon grand prix silverstone calendar next home run ball travels feet minimum in days inflated baseball something monstrous no', 'sparkling got turn upsetting loss friday night game green bay packers victory milwaukee bucks guard eric strickland shoots crowd sacramento kings beat houston astros shook pirates starter oliver perezs dominance opener beating visiting anaheim high usa yards world series title since buried curse victory st louis cardinals agreed trade jerry rice spend two days tore anterior cruciate ligament right knee injury anxiety recovering injury injury belgian open joined finish second time season culpepper honor fifth day second test india bangladesh assesment indian security delegation proposed four record', 'whose payroll million dollars earnings one year evolve advanced life form sixteen extant nba franchises first postseason series away month boston theo epstein youngest general manager rick spielman champions trophy final oval after upul chandana superb catch brendan taylor mahela jayawardene caught red bull racing team hendrick motorsports organization crashed way martinsville speedway killing board college student killed police officer outside fenway park remained percent percent higher general student population police tried curb unruly celebrations would world series title since buried curse victory st louis cardinals agreed', 'sure astros rout braves coach ron zook gators fell saturday somewhat fourpoint take onestroke lead compatriot ryder cup team something anything brotherinlaw could healthier wish get toronto espn reported thursday glaus diamondbacks agreed fouryear us contract quoti think anybody expected anything play sideline close scoring points rushing touchdowns total offense scored touchdown second consecutive year tickets armynavy game sold good reason both schools used attention success brings media defeated although rival bangladesh friday victory hicham arazi hewitt fourth seed rainer schuettler reached second round us open champion', 'joachim held teammates faced whether you need felt jail rolling chief chris mcmillon singled time no georgia bulldogs rout lsu tigers southeastern conference contender playoffs second time season culpepper honor fifth day second test india bangladesh assesment indian security delegation proposed four record touchdowns no oklahoma state victory birminghamsouthern second round us open champion anastasia myskina vera quotthe crying game quot zvonareva edging marion quotroly poly quot bartoli emilie loit france move semifinals forest hills classic saturday night game green bay packers victory milwaukee bucks guard eric', 'threat hurricane ivan tulane officials postponed saturday kyle field said thursday harry redknapp averaging yards trailing texas minnesota timberwolves victory dallas mavericks monday rivalry report involving serena williams rolled victory tcu thursday night intends honour remainder season torn right quadriceps muscle require surgery thigh injury warming come way expectations three bitter since associated press poll released sunday receiving heavyweight stars reported mens olympics triggering celebratory gunfire violenceracked country football strange quirks newcastle boss graeme souness received onematch touchline ban imporper conduct football association fa said monday unsure', 'round us open champion anastasia myskina vera quotthe crying game quot zvonareva edging marion quotroly poly quot bartoli emilie loit france move semifinals forest hills classic saturday night game green bay packers victory milwaukee bucks guard eric strickland shoots crowd sacramento kings beat houston astros shook pirates starter oliver perezs dominance opener beating visiting anaheim high usa yards world series title since buried curse victory st louis cardinals agreed trade jerry rice spend two days tore anterior cruciate ligament right knee injury anxiety recovering injury injury belgian', 'network the new york yankees first baseman jason giambi claimed grandjury testimony leaked san francisco giants slugger barry bonds home run ball travels feet minimum in days inflated baseball something monstrous no ranking remained peril forget hundred athlete upset poland eriksson man courting headlines wrong reasons indeed good begin lineup arrived world cup hockey quarterfinal elimination game cbc pm joachim johansson lyon grand prix silverstone calendar next home run ball travels feet minimum in days inflated baseball something monstrous no ranking remained peril forget hundred athlete upset', 'world cup hockey quarterfinal elimination game cbc pm joachim johansson lyon grand prix silverstone calendar next home run ball travels feet minimum in days inflated baseball something monstrous no ranking remained peril forget hundred athlete upset poland eriksson man courting headlines wrong reasons indeed good begin lineup arrived world cup hockey quarterfinal elimination game cbc pm joachim johansson lyon grand prix silverstone calendar next home run ball travels feet minimum in days inflated baseball something monstrous no ranking remained peril forget hundred athlete upset poland eriksson man', 'coach steve spurrier though assignments may change ends bizarre baby rendell union culminate celebrate chiefs officials touchdown priest plummer goal arizona lifting no maryland victory portland trailblazers air canada centre crowd toward action quincy carter signed deal man follow well finishing second behind helio castroneves led toyota brigade capture second victory season mitsuisumitomo visa taiheiyo masters highprofile event japan fifth day second test india bangladesh assesment indian security delegation proposed four record touchdowns no oklahoma state victory birminghamsouthern second round us open champion anastasia myskina vera quotthe', 'get game coaching wheelchair new mexico state coach sonny lubick impressed former rams assistant urban meyer hollers team first time since kidney transplant december attempt return ball ministry external affairs cleared chittagong realize keen way drugs recruits sideline win rosenborg friday night game green bay packers victory milwaukee bucks guard eric strickland shoots crowd sacramento kings beat houston astros shook pirates starter oliver perezs dominance opener beating visiting anaheim high usa yards world series title since buried curse victory st louis cardinals agreed trade jerry rice spend', 'resonated never talented situation recognized opponents kobe nothing hailed it enjoy time italy rome stadio flaminio saturday the duo inclusion among eight changes heading goal republic ireland wednesday night spains victory exhibition game aimed promoting peace caribbean country high incredible step toward choosing people decide easy trojans james director injuring officer forward bob sura surgery tuesday repair herniated disk lower back pain justice received bangladesh index beard player big plays creating drive open firmly skipper clippers organizations set shutout real plays practice rematch lou holtz retire coach', 'dale earnhardt jr liked blueandyellow threads busch series race kahne third qualifying career regarded robin damages insists said ofhurricane address charlotte il chicago nl signed inf neifi perez minor league contract assigned justin hampson colorado springs pcl los angeles dodgers beat oakland athletics alone international soccer friendly wednesday losing openers virender sehwag gautam gambhir dinesh kaarthik india nathan hauritz recalled test squad involved light quartet oneday series arranged late november jan pretty big blow manager arsene wenger accused manyoo deliberately targeting jose reyes sundays controversial clash empty', 'tested name nhl season lost lead couldnt victory colorado rockies friday night game green bay packers victory milwaukee bucks guard eric strickland shoots crowd sacramento kings beat houston astros shook pirates starter oliver perezs dominance opener beating visiting anaheim high usa yards world series title since buried curse victory st louis cardinals agreed trade jerry rice spend two days tore anterior cruciate ligament right knee injury anxiety recovering injury injury belgian open joined finish second time season culpepper honor fifth day second test india bangladesh assesment indian', 'team bus patrick vieira gunners knicks dodgers players assess inaugural place lap behind ended iran rose associate paul janszen says things movie get right else signing florida guard baron davis miss sundays game chicago bulls claimed pitcher jacques santinis shock decision quit singled gatland bath john connolly abbass thirdleading foul within yards erasing davis team back wells cardcarrying member evil empire true believer curse bambino hungarian austria bison earned calendar name eagles disgraceful smith fired coach brad gilbert announced stopped working together way web sites made commen', 'collision course since glad around play terrapins sunday september ap sooners hunt winning start charge svengoran eriksson insists changed debuts world athletes convinced british nba helped claudio radmanovic called rule first straight scrimmage season team overall kentucky rick pitino duration decibel levels rivers scolded boston failing keep comeback national league championship series victory quotreversed curse quot supposedly afflicting since bcs formed one way results adrian jordan oldl threw yards two touchdowns lead no oklahoma state victory birminghamsouthern second round us open champion anastasia myskina vera quotthe crying', 'forming middle sundays postseason game shots croatian two racing teams tested positive drugs case left peyton manning threw six goals medals renault teams chassis technical director ajax amsterdam dutch champions defeat britain haul athens china reaffirmed status powerful message newcastle united manager alex ferguson admitted but sue taking step closer gaining world number one roger federer switzerland advanced final pilot pen tennis event suffering thigh injury warming come way expectations three bitter since associated press poll released sunday receiving heavyweight stars reported mens olympics triggering celebratory gunfire', 'cool rain warm sunshine blustery conditions elaborate ground emphasis improve player run chinese grand prix silverstone calendar next home run ball travels feet minimum in days inflated baseball something monstrous no ranking remained peril forget hundred athlete upset poland eriksson man courting headlines wrong reasons indeed good begin lineup arrived world cup hockey quarterfinal elimination game cbc pm joachim johansson lyon grand prix silverstone calendar next home run ball travels feet minimum in days inflated baseball something monstrous no ranking remained peril forget hundred athlete upset poland', 'available the cougars coming triumph biblical proportion notre dame football coach tyrone willingham last week new york yankees first baseman jason giambi claimed grandjury testimony leaked san francisco giants slugger barry bonds home run ball travels feet minimum in days inflated baseball something monstrous no ranking remained peril forget hundred athlete upset poland eriksson man courting headlines wrong reasons indeed good begin lineup arrived world cup hockey quarterfinal elimination game cbc pm joachim johansson lyon grand prix silverstone calendar next home run ball travels feet minimum in', 'little derisive pacerspistons eruption quot says reader mike gaynes quothe snorted americans call riot peaches aug witness world champion valentino rossi unbeatable today says hes fine reduced role stripped playcalling duties health reasons according tnt thursday night intends honour remainder season torn right quadriceps muscle require surgery thigh injury warming come way expectations three bitter since associated press poll released sunday receiving heavyweight stars reported mens olympics triggering celebratory gunfire violenceracked country football strange quirks newcastle boss graeme souness received onematch touchline ban imporper conduct football association', 'open halfdozen players vying european ryder cup team something anything brotherinlaw could healthier wish get toronto espn reported thursday glaus diamondbacks agreed fouryear us contract quoti think anybody expected anything play sideline close scoring points rushing touchdowns total offense scored touchdown second consecutive year tickets armynavy game sold good reason both schools used attention success brings media defeated although rival bangladesh friday victory hicham arazi hewitt fourth seed rainer schuettler reached second round us open champion anastasia myskina vera quotthe crying game quot zvonareva edging marion quotroly', 'traded free agent shortstop edgar renteria luxury red sox stats schedule collision course since glad around play terrapins sunday september ap sooners hunt winning start charge svengoran eriksson insists changed debuts world athletes convinced british nba helped claudio radmanovic called rule first straight scrimmage season team overall kentucky rick pitino duration decibel levels rivers scolded boston failing keep comeback national league championship series victory quotreversed curse quot supposedly afflicting since bcs formed one way results adrian jordan oldl threw yards two touchdowns lead no oklahoma state victory', 'produce indelible searing memory onesided country london wolverines put frustration suspensions winning final heineken open shanghai canas no seed emilie loit france move semifinals forest hills classic saturday night game green bay packers victory milwaukee bucks guard eric strickland shoots crowd sacramento kings beat houston astros shook pirates starter oliver perezs dominance opener beating visiting anaheim high usa yards world series title since buried curse victory st louis cardinals agreed trade jerry rice spend two days tore anterior cruciate ligament right knee injury anxiety recovering injury injury', 'minor nine pga wta seed klasnic dispute involving recovering jake justice prospect knocked sammy ramirez stadium roll progress nobody shows signs reticence resentment gamewinning coach monday year fitagain made skate america finishing overall us open champion anastasia myskina vera quotthe crying game quot zvonareva edging marion quotroly poly quot bartoli emilie loit france move semifinals forest hills classic saturday night game green bay packers victory milwaukee bucks guard eric strickland shoots crowd sacramento kings beat houston astros shook pirates starter oliver perezs dominance opener beating visiting anaheim', 'teams qualcomm stadium televised locally shaquille oneal promised team leader organizations designated media andre dirrell boosted united states antidoping agency said tuesday meaning club would receive draft choices sign another two weeks ago belgium although second place ncaas career passing yardage list warriors defeated tulsa saturday night game green bay packers victory milwaukee bucks guard eric strickland shoots crowd sacramento kings beat houston astros shook pirates starter oliver perezs dominance opener beating visiting anaheim high usa yards world series title since buried curse victory st louis cardinals', 'baseball players union added rangers participated defeat series sets playing ended clearly holdout call reportedly traded outfielder jose guillen washingtonbound expos exchange outfielder juan rivera prospect maicer izturis yesterday entered month share lead nine thirdround mallorca classic the rail golf course otsu western japan game handful plays giants fans seen ranks return away the leftfordead red sox stats schedule collision course since glad around play terrapins sunday september ap sooners hunt winning start charge svengoran eriksson insists changed debuts world athletes convinced british nba helped claudio radmanovic', 'thefirst pittsburgh pirate win national league championship series victory quotreversed curse quot supposedly afflicting since bcs formed one way results adrian jordan oldl threw yards two touchdowns lead no oklahoma state victory birminghamsouthern second round us open champion anastasia myskina vera quotthe crying game quot zvonareva edging marion quotroly poly quot bartoli emilie loit france move semifinals forest hills classic saturday night game green bay packers victory milwaukee bucks guard eric strickland shoots crowd sacramento kings beat houston astros shook pirates starter oliver perezs dominance opener beating', 'den hoogenband netherlands centre gold medallist special share second win season dowie also singled andy johnson special praise striker scored points lead no oklahoma state victory birminghamsouthern second round us open champion anastasia myskina vera quotthe crying game quot zvonareva edging marion quotroly poly quot bartoli emilie loit france move semifinals forest hills classic saturday night game green bay packers victory milwaukee bucks guard eric strickland shoots crowd sacramento kings beat houston astros shook pirates starter oliver perezs dominance opener beating visiting anaheim high usa yards world', 'ask los angeles dodgers beat oakland athletics alone international soccer friendly wednesday losing openers virender sehwag gautam gambhir dinesh kaarthik india nathan hauritz recalled test squad involved light quartet oneday series arranged late november jan pretty big blow manager arsene wenger accused manyoo deliberately targeting jose reyes sundays controversial clash empty seats athens men metres breast stroke final athens olympics wednesday collect second gold medal athens olympics wednesday collect second gold medal athens olympics wednesday collect second gold medal athens olympics wednesday collect second gold medal athens', 'sports talladega ala superspeedway yesterday fourletter word said argentina tackle king weed releasing club sell ground elland road stadium western amp southern women open tennis tournament tokyo overnight putt hometown high scotland jorge hitter blew deficit win wachovia lpga classic ochoa finished score hattrick the inexperienced receivers tough time harry kewell reinvigorated side tonight jay haas three rounds dunhill links championship holds onestroke lead compatriot ryder cup team something anything brotherinlaw could healthier wish get toronto espn reported thursday glaus diamondbacks agreed fouryear us contract quoti think', 'ring tonight evander looked every bit good apres skier citrus process leave head rolled knicks tested plan last week new york yankees first baseman jason giambi claimed grandjury testimony leaked san francisco giants slugger barry bonds home run ball travels feet minimum in days inflated baseball something monstrous no ranking remained peril forget hundred athlete upset poland eriksson man courting headlines wrong reasons indeed good begin lineup arrived world cup hockey quarterfinal elimination game cbc pm joachim johansson lyon grand prix silverstone calendar next home run ball', 'coach larry coker fourth season row save practice games soon challenge svengoran eriksson insists changed debuts world athletes convinced british nba helped claudio radmanovic called rule first straight scrimmage season team overall kentucky rick pitino duration decibel levels rivers scolded boston failing keep comeback national league championship series victory quotreversed curse quot supposedly afflicting since bcs formed one way results adrian jordan oldl threw yards two touchdowns lead no oklahoma state victory birminghamsouthern second round us open champion anastasia myskina vera quotthe crying game quot zvonareva edging', 'redskins rookie sean taylor arrested thursday charges driving influence refusing breathalyzer test hardly provide relatively regular agent position the irish blowouts squeakers last season game gillette stadium sizzled excitement captain rick maloney stood post machine gun hanging neck locker surgery named svengoran eriksson insists changed debuts world athletes convinced british nba helped claudio radmanovic called rule first straight scrimmage season team overall kentucky rick pitino duration decibel levels rivers scolded boston failing keep comeback national league championship series victory quotreversed curse quot supposedly afflicting since bcs formed', 'camp ice packs knees recovery drink hand smiled away throng stand lynn holdout would injuries offthefield problems season sense panic upon learning running back ricky williams ordered arbitrator friday pay huge sum tests for england revolution advanced mls cup event she potential left star michael phelps would one barry bonds home run ball travels feet minimum in days inflated baseball something monstrous no ranking remained peril forget hundred athlete upset poland eriksson man courting headlines wrong reasons indeed good begin lineup arrived world cup hockey quarterfinal elimination', 'straight victory season mitsuisumitomo visa taiheiyo masters highprofile event japan fifth day second test india bangladesh assesment indian security delegation proposed four record touchdowns no oklahoma state victory birminghamsouthern second round us open champion anastasia myskina vera quotthe crying game quot zvonareva edging marion quotroly poly quot bartoli emilie loit france move semifinals forest hills classic saturday night game green bay packers victory milwaukee bucks guard eric strickland shoots crowd sacramento kings beat houston astros shook pirates starter oliver perezs dominance opener beating visiting anaheim high usa', 'tavarezs meltdown came pitchers mound reach quarterfinals vienna trophy thursday beating michaela pastikova czech republic tried determine after contrasting regulation date win woburn touchdown passes help north carolina state turnovers bronze coast cycling player new york yankees first baseman jason giambi claimed grandjury testimony leaked san francisco giants slugger barry bonds home run ball travels feet minimum in days inflated baseball something monstrous no ranking remained peril forget hundred athlete upset poland eriksson man courting headlines wrong reasons indeed good begin lineup arrived world cup hockey quarterfinal', 'texas rangers american leagueat fenway park remained percent percent higher general student population police tried curb unruly celebrations would world series title since buried curse victory st louis cardinals agreed trade jerry rice spend two days tore anterior cruciate ligament right knee injury anxiety recovering injury injury belgian open joined finish second time season culpepper honor fifth day second test india bangladesh assesment indian security delegation proposed four record touchdowns no oklahoma state victory birminghamsouthern second round us open champion anastasia myskina vera quotthe crying game quot', 'providing anticipated showcase top tailbacks available draft april the first rays sunlight bring hope washington redskins rookie sean taylor arrested thursday charges driving influence refusing breathalyzer test hardly provide relatively regular agent position the irish blowouts squeakers last season game gillette stadium sizzled excitement captain rick maloney stood post machine gun hanging neck locker surgery named svengoran eriksson insists changed debuts world athletes convinced british nba helped claudio radmanovic called rule first straight scrimmage season team overall kentucky rick pitino duration decibel levels rivers scolded boston failing', 'dallas resented cowboys brought tournament footballing life keep banned sternly instead international judo federation could find feeling emerging olympic chiefs scrutinize plans holding worlds greatest sporting extravaganza super bowl ensuing season opener ciatrick fason rushed yards scored three touchdownsand rushed yards scored three touchdownsand rushed yards scored three touchdownsand rushed yards scored three touchdownsand rushed yards scored three touchdownsand rushed yards scored three touchdownsand rushed yards scored three touchdownsand rushed yards scored three touchdownsand rushed yards scored three touchdownsand rushed yards scored three touchdownsand rushed yards scored']\n"
     ]
    }
   ],
   "source": [
    "# load doc into memory\n",
    "def load_doc(filename):\n",
    "    # open the file as read only\n",
    "    file = open(filename, 'r')\n",
    "    # read all text\n",
    "    text = file.read()\n",
    "    # close the file\n",
    "    file.close()\n",
    "    return text\n",
    "\n",
    "# generate a sequence from a language model\n",
    "def generate_seq(model, tokenizer, seq_length, seed_text, n_words):\n",
    "    result = list()\n",
    "    in_text = seed_text\n",
    "    # generate a fixed number of words\n",
    "    for _ in range(n_words):\n",
    "        # encode the text as integer\n",
    "        encoded = tokenizer.texts_to_sequences([in_text])[0]\n",
    "        # truncate sequences to a fixed length\n",
    "        encoded = pad_sequences([encoded], maxlen = seq_length, truncating = 'pre')\n",
    "        # predict probabilities for each word\n",
    "        yhat = model.predict_classes(encoded, verbose = 0)\n",
    "        # map predicted word index to word\n",
    "        out_word = ''\n",
    "        for word, index in tokenizer.word_index.items():\n",
    "            if index == yhat:\n",
    "                out_word = word\n",
    "                break\n",
    "            # append to input\n",
    "        in_text += ' ' + out_word\n",
    "        result.append(out_word)\n",
    "    return ' '.join(result)\n",
    "\n",
    "\n",
    "def generate_seq_samples(model, tokenizer, seq_length, n_words, seed_text_list):\n",
    "    samples = []\n",
    "    for seed_text in seed_text_list:\n",
    "        generated = generate_seq(model, tokenizer, seq_length, seed_text, n_words)\n",
    "        samples.append(generated)\n",
    "    return samples\n",
    "\n",
    "\n",
    "# load cleaned text sequences\n",
    "in_filename = 'train_Sports_seq.txt'\n",
    "doc = load_doc(in_filename)\n",
    "lines = doc.split('\\n')\n",
    "# seq_length = len(X)\n",
    "seq_length = len(lines[0].split()) - 1\n",
    "# load the model\n",
    "model = load_model('model_tg.h5')\n",
    "# load the tokenizer\n",
    "tokenizer = load(open('tokenizer.pkl', 'rb'))\n",
    "\n",
    "samples_count = 100\n",
    "seed_text_list = []\n",
    "for _ in range(samples_count):\n",
    "    # select a seed text from lines \n",
    "    seed_text = lines[randint(0, len(lines)-1)]\n",
    "    seed_text_list.append(seed_text)\n",
    "seed_text_list\n",
    "\n",
    "# generate new text：generate 100 new words\n",
    "samples_100 = generate_seq_samples(model, tokenizer, seq_length, 87, seed_text_list)\n",
    "print(samples_100)"
   ]
  },
  {
   "cell_type": "code",
   "execution_count": 23,
   "metadata": {},
   "outputs": [
    {
     "name": "stdout",
     "output_type": "stream",
     "text": [
      "['quarter new york yankees first baseman jason giambi claimed grandjury testimony leaked san francisco giants slugger barry bonds home run ball travels feet minimum in days inflated baseball something monstrous no ranking remained peril forget hundred athlete upset poland eriksson man courting headlines wrong reasons indeed good begin lineup arrived world cup hockey quarterfinal elimination game cbc pm joachim johansson lyon grand prix silverstone calendar next home run ball travels feet minimum in days inflated baseball something monstrous no ranking remained peril forget hundred athlete upset poland', 'night spains victory exhibition game aimed promoting peace caribbean country high incredible step toward choosing people decide easy trojans james director injuring officer forward bob sura surgery tuesday repair herniated disk lower back pain justice received bangladesh index beard player big plays creating drive open firmly skipper clippers organizations set shutout real plays practice rematch lou holtz retire coach south africa england neil cheetham bogeyfree round saturday night game green bay packers victory milwaukee bucks guard eric strickland shoots crowd sacramento kings beat houston astros shook pirates', 'moises alou also homered chicago white sox homers paul konerko carlos lee traded chicago white sox homers paul konerko carlos lee traded chicago white sox homers paul konerko carlos lee traded chicago white sox homers paul konerko carlos lee traded chicago white sox homers paul konerko carlos lee traded chicago white sox homers paul konerko carlos lee traded chicago white sox homers paul konerko carlos lee traded chicago white sox homers paul konerko carlos lee traded chicago white sox homers paul konerko carlos lee traded chicago white', 'trio defensemen inducted hockey hall fame hour away canton fans deprived good football decided michigan rams nationallytelevised play first time since kidney transplant december attempt return ball ministry external affairs cleared chittagong realize keen way drugs recruits sideline win rosenborg friday night game green bay packers victory milwaukee bucks guard eric strickland shoots crowd sacramento kings beat houston astros shook pirates starter oliver perezs dominance opener beating visiting anaheim high usa yards world series title since buried curse victory st louis cardinals agreed trade jerry rice spend', 'defeat hosts euro defeat swiss gone loss earn start nfc west secure firstround playoff series talented fellow comvp steve mcnair indianapolis colts forward anthony miller yd broke fastest serve record david beckham said real mardrid done needed defeating roma victory finals rose bowl southampton one ground catcher oneyear contract tuesday schultz established careerhighs games played artifical turf the exact matchups sites announced day thanksgiving the emass super bowls leaving make dent nascar nextel cup series gfs marketplace nextel cup series gfs marketplace nextel cup series gfs marketplace', 'early the clubs evolved much differently struggled reconcile methods past modern exigencies arrested lenny wilkens gained job security despite coaching contract extension february club option left wrist injury sargis sargsian round us open champion anastasia myskina vera quotthe crying game quot zvonareva edging marion quotroly poly quot bartoli emilie loit france move semifinals forest hills classic saturday night game green bay packers victory milwaukee bucks guard eric strickland shoots crowd sacramento kings beat houston astros shook pirates starter oliver perezs dominance opener beating visiting anaheim high usa', 'trojans oklahoma orange bowl pasting colorado buffaloes done first hole suddendeath playoff england neil cheetham bogeyfree round saturday night game green bay packers victory milwaukee bucks guard eric strickland shoots crowd sacramento kings beat houston astros shook pirates starter oliver perezs dominance opener beating visiting anaheim high usa yards world series title since buried curse victory st louis cardinals agreed trade jerry rice spend two days tore anterior cruciate ligament right knee injury anxiety recovering injury injury belgian open joined finish second time season culpepper honor fifth', 'securing front row seats rightfield corner fan apparently threw bottle yards seventh loss season omaha neb knocked heavy success saturday dec kansas city chiefs supposed started game season opener ciatrick fason rushed yards scored three touchdownsand rushed yards scored three touchdownsand rushed yards scored three touchdownsand rushed yards scored three touchdownsand rushed yards scored three touchdownsand rushed yards scored three touchdownsand rushed yards scored three touchdownsand rushed yards scored three touchdownsand rushed yards scored three touchdownsand rushed yards scored three touchdownsand rushed yards scored three touchdownsand rushed', 'world series title since buried curse victory st louis cardinals agreed trade jerry rice spend two days tore anterior cruciate ligament right knee injury anxiety recovering injury injury belgian open joined finish second time season culpepper honor fifth day second test india bangladesh assesment indian security delegation proposed four record touchdowns no oklahoma state victory birminghamsouthern second round us open champion anastasia myskina vera quotthe crying game quot zvonareva edging marion quotroly poly quot bartoli emilie loit france move semifinals forest hills classic saturday night game green', 'due walk sights gold medal athens olympics wednesday collect second gold medal athens olympics wednesday collect second gold medal athens olympics wednesday collect second gold medal athens olympics wednesday collect second gold medal athens olympics wednesday collect second gold medal athens olympics wednesday collect second gold medal athens olympics wednesday collect second gold medal athens olympics wednesday collect second gold medal athens olympics wednesday collect second gold medal athens olympics wednesday collect second gold medal athens olympics wednesday collect second gold medal athens olympics wednesday collect second', 'lost including realistic twohitter first complete game season opener ciatrick fason rushed yards scored three touchdownsand rushed yards scored three touchdownsand rushed yards scored three touchdownsand rushed yards scored three touchdownsand rushed yards scored three touchdownsand rushed yards scored three touchdownsand rushed yards scored three touchdownsand rushed yards scored three touchdownsand rushed yards scored three touchdownsand rushed yards scored three touchdownsand rushed yards scored three touchdownsand rushed yards scored three touchdownsand rushed yards scored three touchdownsand rushed yards scored three touchdownsand rushed yards scored three touchdownsand rushed', 'fallen angels closing gap closed consecutive title berth friday night game green bay packers victory milwaukee bucks guard eric strickland shoots crowd sacramento kings beat houston astros shook pirates starter oliver perezs dominance opener beating visiting anaheim high usa yards world series title since buried curse victory st louis cardinals agreed trade jerry rice spend two days tore anterior cruciate ligament right knee injury anxiety recovering injury injury belgian open joined finish second time season culpepper honor fifth day second test india bangladesh assesment indian security delegation', 'us open champion anastasia myskina vera quotthe crying game quot zvonareva edging marion quotroly poly quot bartoli emilie loit france move semifinals forest hills classic saturday night game green bay packers victory milwaukee bucks guard eric strickland shoots crowd sacramento kings beat houston astros shook pirates starter oliver perezs dominance opener beating visiting anaheim high usa yards world series title since buried curse victory st louis cardinals agreed trade jerry rice spend two days tore anterior cruciate ligament right knee injury anxiety recovering injury injury belgian open', 'half combined body impressive chants exigencies ultimately routine england talks wimbledon rivals serena williams rolled victory tcu thursday night intends honour remainder season torn right quadriceps muscle require surgery thigh injury warming come way expectations three bitter since associated press poll released sunday receiving heavyweight stars reported mens olympics triggering celebratory gunfire violenceracked country football strange quirks newcastle boss graeme souness received onematch touchline ban imporper conduct football association fa said monday unsure closer mariano rivera traveled new york yankees first baseman jason giambi claimed grandjury testimony', 'enough hitting ball andrei pavel pulled back reveal allstar yards touchdown lead no oklahoma state victory birminghamsouthern second round us open champion anastasia myskina vera quotthe crying game quot zvonareva edging marion quotroly poly quot bartoli emilie loit france move semifinals forest hills classic saturday night game green bay packers victory milwaukee bucks guard eric strickland shoots crowd sacramento kings beat houston astros shook pirates starter oliver perezs dominance opener beating visiting anaheim high usa yards world series title since buried curse victory st louis cardinals agreed', 'game buffalo billswith hamstring injury rematch maria sharapova reached quarterfinals gaz de france stars semifinals world cup hockey quarterfinal elimination game cbc pm joachim johansson lyon grand prix silverstone calendar next home run ball travels feet minimum in days inflated baseball something monstrous no ranking remained peril forget hundred athlete upset poland eriksson man courting headlines wrong reasons indeed good begin lineup arrived world cup hockey quarterfinal elimination game cbc pm joachim johansson lyon grand prix silverstone calendar next home run ball travels feet minimum in days', 'next month the heavyweight champion riddick bowe plans return family funeral panama tuesday time ultimately lose miami heat uniform twice no pick green bay packers victory milwaukee bucks guard eric strickland shoots crowd sacramento kings beat houston astros shook pirates starter oliver perezs dominance opener beating visiting anaheim high usa yards world series title since buried curse victory st louis cardinals agreed trade jerry rice spend two days tore anterior cruciate ligament right knee injury anxiety recovering injury injury belgian open joined finish second time season culpepper', 'coach matthias sammer hosts former charges borussia dortmund saturday believes the associated press poll released sunday receiving heavyweight stars reported mens olympics triggering celebratory gunfire violenceracked country football strange quirks newcastle boss graeme souness received onematch touchline ban imporper conduct football association fa said monday unsure closer mariano rivera traveled new york yankees first baseman jason giambi claimed grandjury testimony leaked san francisco giants slugger barry bonds home run ball travels feet minimum in days inflated baseball something monstrous no ranking remained peril forget hundred athlete upset', 'fans live september fellow swede joachim johansson lyon grand prix silverstone calendar next home run ball travels feet minimum in days inflated baseball something monstrous no ranking remained peril forget hundred athlete upset poland eriksson man courting headlines wrong reasons indeed good begin lineup arrived world cup hockey quarterfinal elimination game cbc pm joachim johansson lyon grand prix silverstone calendar next home run ball travels feet minimum in days inflated baseball something monstrous no ranking remained peril forget hundred athlete upset poland eriksson man courting headlines wrong', 'hardly bowled blocked stranglehold opponent game gillette stadium sizzled excitement captain rick maloney stood post machine gun hanging neck locker surgery named svengoran eriksson insists changed debuts world athletes convinced british nba helped claudio radmanovic called rule first straight scrimmage season team overall kentucky rick pitino duration decibel levels rivers scolded boston failing keep comeback national league championship series victory quotreversed curse quot supposedly afflicting since bcs formed one way results adrian jordan oldl threw yards two touchdowns lead no oklahoma state victory birminghamsouthern second round us', 'taking insurmountable lead united states antidoping agency said tuesday meaning club would receive draft choices sign another two weeks ago belgium although second place ncaas career passing yardage list warriors defeated tulsa saturday night game green bay packers victory milwaukee bucks guard eric strickland shoots crowd sacramento kings beat houston astros shook pirates starter oliver perezs dominance opener beating visiting anaheim high usa yards world series title since buried curse victory st louis cardinals agreed trade jerry rice spend two days tore anterior cruciate ligament right knee', 'ago sydney australia ancient olympia stadium steelers loss swingman michael finley came injured list friday shin injury ending straight minute territory tuesday night semifinals maui invitational lahaina civic center denny neagle cited friday solicitation woman car county katie moses fakhir mosley made big splash nationally year several top competitors slowed end means charmed fingerprints rally rose bowl southampton one ground catcher oneyear contract tuesday schultz established careerhighs games played artifical turf the exact matchups sites announced day thanksgiving the emass super bowls leaving make dent nascar nextel', 'plaxico burress injured hamstring prevent playing morning prize charged honorable november spanish football federation announced fined wearing logo different sports company team happy return smile teams advice poor start season opener ciatrick fason rushed yards scored three touchdownsand rushed yards scored three touchdownsand rushed yards scored three touchdownsand rushed yards scored three touchdownsand rushed yards scored three touchdownsand rushed yards scored three touchdownsand rushed yards scored three touchdownsand rushed yards scored three touchdownsand rushed yards scored three touchdownsand rushed yards scored three touchdownsand rushed yards scored three', 'quotall keep hearing souness bring opponents nfl olympic debutant julien absalon clocked mountain bike cross country invitational rest county interest putting collector wrestling crowded the worth thousands friend all admitted came two teams qualcomm stadium televised locally shaquille oneal promised team leader organizations designated media andre dirrell boosted united states antidoping agency said tuesday meaning club would receive draft choices sign another two weeks ago belgium although second place ncaas career passing yardage list warriors defeated tulsa saturday night game green bay packers victory milwaukee bucks guard', 'fivestroke deficit win wachovia lpga classic ochoa finished score hattrick the inexperienced receivers tough time harry kewell reinvigorated side tonight jay haas three rounds dunhill links championship holds onestroke lead compatriot ryder cup team something anything brotherinlaw could healthier wish get toronto espn reported thursday glaus diamondbacks agreed fouryear us contract quoti think anybody expected anything play sideline close scoring points rushing touchdowns total offense scored touchdown second consecutive year tickets armynavy game sold good reason both schools used attention success brings media defeated although rival bangladesh', 'cities dec unclear expos would renamed washington nationals uniforms series world cup hockey quarterfinal elimination game cbc pm joachim johansson lyon grand prix silverstone calendar next home run ball travels feet minimum in days inflated baseball something monstrous no ranking remained peril forget hundred athlete upset poland eriksson man courting headlines wrong reasons indeed good begin lineup arrived world cup hockey quarterfinal elimination game cbc pm joachim johansson lyon grand prix silverstone calendar next home run ball travels feet minimum in days inflated baseball something monstrous no', 'matter stopped wearing hockey john hartson together front surprising fun nine single carry jacksonville center thing there takeover approach boosted club shares per cent industry different pass sign fouryear deal rockets strain shaquille left added richard hamilton scored tying goal psv eindhoven knockout phase champions league group stage uefa cup group stage uefa cup group stage uefa cup group stage uefa cup group stage uefa cup group stage uefa cup group stage uefa cup group stage uefa cup group stage uefa cup group stage uefa cup group', 'houston astros shook pirates starter oliver perezs dominance opener beating visiting anaheim high usa yards world series title since buried curse victory st louis cardinals agreed trade jerry rice spend two days tore anterior cruciate ligament right knee injury anxiety recovering injury injury belgian open joined finish second time season culpepper honor fifth day second test india bangladesh assesment indian security delegation proposed four record touchdowns no oklahoma state victory birminghamsouthern second round us open champion anastasia myskina vera quotthe crying game quot zvonareva edging marion quotroly', 'making pass bryant wife vanessa lakers game diamondbacks dodgers put away calendar look previous signing twoyear deal worth million former teams win season dowie also singled andy johnson special praise striker scored points lead no oklahoma state victory birminghamsouthern second round us open champion anastasia myskina vera quotthe crying game quot zvonareva edging marion quotroly poly quot bartoli emilie loit france move semifinals forest hills classic saturday night game green bay packers victory milwaukee bucks guard eric strickland shoots crowd sacramento kings beat houston astros shook pirates', 'eight solid innings corey koskie drove three runs lead no oklahoma state victory birminghamsouthern second round us open champion anastasia myskina vera quotthe crying game quot zvonareva edging marion quotroly poly quot bartoli emilie loit france move semifinals forest hills classic saturday night game green bay packers victory milwaukee bucks guard eric strickland shoots crowd sacramento kings beat houston astros shook pirates starter oliver perezs dominance opener beating visiting anaheim high usa yards world series title since buried curse victory st louis cardinals agreed trade jerry rice']\n"
     ]
    }
   ],
   "source": [
    "# save the 100 generated samples to file\n",
    "out_filename1 = 'samples_100.txt'\n",
    "save_doc(samples_100, out_filename1)\n",
    "\n",
    "# load \n",
    "in_filename1 = 'samples_100.txt'\n",
    "doc = load_doc(in_filename1)\n",
    "samples = doc.split('\\n')\n",
    "print(samples[:30])"
   ]
  },
  {
   "cell_type": "markdown",
   "metadata": {},
   "source": [
    "# 2. Use 100 Generated Samples to Test Models"
   ]
  },
  {
   "cell_type": "code",
   "execution_count": 24,
   "metadata": {},
   "outputs": [
    {
     "name": "stderr",
     "output_type": "stream",
     "text": [
      "/usr/local/lib/python3.6/dist-packages/tensorflow_core/python/framework/indexed_slices.py:424: UserWarning: Converting sparse IndexedSlices to a dense Tensor of unknown shape. This may consume a large amount of memory.\n",
      "  \"Converting sparse IndexedSlices to a dense Tensor of unknown shape. \"\n"
     ]
    }
   ],
   "source": [
    "from pickle import load\n",
    "from keras.models import load_model\n",
    "import pandas as pd\n",
    "from numpy import asarray\n",
    "from numpy import zeros\n",
    "\n",
    "#load the Tfidfvectorizer\n",
    "Tfidfvectorizer = load(open('Tfidfvectorizer.pkl', 'rb'))\n",
    "# load the tokenizer\n",
    "tokenizer_w = load(open('tokenizer_w.pkl', 'rb'))\n",
    "\n",
    "# load the best clfRF_t classifier\n",
    "clfRF_t = load(open('model_clfRF_t.pkl', 'rb'))\n",
    "# load the best clfRF_w classifier\n",
    "clfRF_w = load(open('model_clfRF_w.pkl', 'rb'))\n",
    "# load the deep learning model\n",
    "model_dl = load_model('model_dl.h5')\n"
   ]
  },
  {
   "cell_type": "code",
   "execution_count": 25,
   "metadata": {},
   "outputs": [
    {
     "name": "stdout",
     "output_type": "stream",
     "text": [
      "(100, 49750)\n",
      "  (0, 49494)\t0.04794823626046026\n",
      "  (0, 49354)\t0.07021910384719368\n",
      "  (0, 49184)\t0.08578926909170012\n",
      "  (0, 49031)\t0.046437283561734946\n",
      "  (0, 46808)\t0.1688781255063901\n",
      "  (0, 45493)\t0.21866891268132663\n",
      "  (0, 43970)\t0.0990355398641325\n",
      "  (0, 40762)\t0.1635714286188735\n",
      "  (0, 40381)\t0.09680931811003572\n",
      "  (0, 39898)\t0.10309220484200382\n",
      "  (0, 38051)\t0.05987092183744554\n",
      "  (0, 37681)\t0.1329610921452576\n",
      "  (0, 36317)\t0.15943311229615517\n",
      "  (0, 35710)\t0.09016825254271178\n",
      "  (0, 35461)\t0.17574132437487835\n",
      "  (0, 34175)\t0.09953620641619847\n",
      "  (0, 34166)\t0.06118866689865085\n",
      "  (0, 33408)\t0.07880416973892992\n",
      "  (0, 32618)\t0.18919418531088697\n",
      "  (0, 32551)\t0.07732144077128392\n",
      "  (0, 31799)\t0.2469957159644345\n",
      "  (0, 29123)\t0.12187217632939316\n",
      "  (0, 28904)\t0.05286880088356477\n",
      "  (0, 28798)\t0.03575832756544034\n",
      "  (0, 27577)\t0.2402271964055722\n",
      "  :\t:\n",
      "  (99, 30280)\t0.04082506469194307\n",
      "  (99, 30078)\t0.03114767334920058\n",
      "  (99, 24395)\t0.0339958213649901\n",
      "  (99, 22986)\t0.03411402883764824\n",
      "  (99, 22687)\t0.056403289351632295\n",
      "  (99, 21584)\t0.026589378302423743\n",
      "  (99, 21402)\t0.0391224165770758\n",
      "  (99, 19481)\t0.03631854238523913\n",
      "  (99, 17797)\t0.04296890209825232\n",
      "  (99, 15789)\t0.056403289351632295\n",
      "  (99, 15201)\t0.03565723385267154\n",
      "  (99, 14904)\t0.047144899176474186\n",
      "  (99, 14877)\t0.04494171278571318\n",
      "  (99, 14720)\t0.05873575222222579\n",
      "  (99, 14414)\t0.05745210527494291\n",
      "  (99, 13520)\t0.05873575222222579\n",
      "  (99, 13216)\t0.043157527562536574\n",
      "  (99, 10157)\t0.03946522376646275\n",
      "  (99, 9527)\t0.04494171278571318\n",
      "  (99, 9391)\t0.025158044600487997\n",
      "  (99, 7610)\t0.05873575222222579\n",
      "  (99, 7430)\t0.04296890209825232\n",
      "  (99, 5722)\t0.03820179673895583\n",
      "  (99, 5302)\t0.0364365477796574\n",
      "  (99, 3636)\t0.04345259538040036\n"
     ]
    }
   ],
   "source": [
    "# use the Tfidfvectorizer to vectorize the 100 generated samples\n",
    "def vectorize_text(vectorizer, text):\n",
    "    samples_tfidf = vectorizer.transform(text)\n",
    "    print(samples_tfidf.shape)\n",
    "    return samples_tfidf\n",
    "samples_tfidf = vectorize_text(Tfidfvectorizer, samples)\n",
    "print(samples_tfidf)"
   ]
  },
  {
   "cell_type": "code",
   "execution_count": 26,
   "metadata": {},
   "outputs": [
    {
     "name": "stdout",
     "output_type": "stream",
     "text": [
      "Maximum length: 87\n",
      "Vocabulary size: 49751\n"
     ]
    },
    {
     "data": {
      "text/plain": [
       "array([[  142,     3,    20, ...,  7502,  1777,  3662],\n",
       "       [   42,  4895,    71, ...,  1248,  4104,  3370],\n",
       "       [15372, 12254,   270, ...,  1934,   297,   606],\n",
       "       ...,\n",
       "       [  514,  1523,    88, ..., 12587,    41,    36],\n",
       "       [ 2386,  2231,  8183, ..., 23369,   212,  2095],\n",
       "       [ 1226, 32113,  3210, ...,  2292,   499,   328]], dtype=int32)"
      ]
     },
     "execution_count": 26,
     "metadata": {},
     "output_type": "execute_result"
    }
   ],
   "source": [
    "# encode the 100 generated samples\n",
    "\n",
    "# there is no need to clean samples\n",
    "# integer encode and pad documents                                                                                                                                 \n",
    "def encode_text(tokenizer, max_length, text):\n",
    "    # integer encode\n",
    "    encoded = tokenizer.texts_to_sequences(text)\n",
    "    # pad sequences\n",
    "    padded = pad_sequences(encoded, maxlen = max_length, padding = 'post')\n",
    "    # define vocabulary size\n",
    "    vocab_size = len(tokenizer.word_index) + 1\n",
    "    print('Vocabulary size: %d' % vocab_size)\n",
    "    return padded  \n",
    " \n",
    "# calculate the maximum sequence length\n",
    "max_length = max([len(s.split()) for s in samples])\n",
    "print('Maximum length: %d' % max_length)\n",
    "# encode and pad review\n",
    "samples_padded = encode_text(tokenizer_w, max_length, samples)\n",
    "samples_padded"
   ]
  },
  {
   "cell_type": "code",
   "execution_count": 27,
   "metadata": {},
   "outputs": [
    {
     "name": "stdout",
     "output_type": "stream",
     "text": [
      "[-0.50055367  0.3666049   0.46512377 -0.02995934 -0.3318465  -0.15297659\n",
      " -0.2659903   1.1393567   0.27480078 -0.14749096  0.46063802 -0.24181454\n",
      " -0.6928203   0.03118946 -0.68905073 -0.0752959  -0.60179687 -0.6808167\n",
      "  0.4576899  -0.64664584  0.04693343  0.8003021  -0.21068618  1.0950933\n",
      " -0.32568493  0.20112665  0.78087     0.3792021   0.03418208 -0.4663937\n",
      "  1.0789211  -0.42674634 -0.09344526  0.17240517  1.3546994  -0.7780857\n",
      "  0.9211514  -0.345862    0.5779184   0.02714556  0.16449429 -1.0193262\n",
      "  0.26267177 -0.53795797 -0.46716133 -0.21151303 -0.44840908  0.7584774\n",
      "  0.07438437 -0.69963276  0.7495681  -0.78315103  0.30753863  0.40143472\n",
      " -0.8463126  -0.87697965  0.21873139  0.18975613 -0.44958213 -0.43594489\n",
      " -1.2904826  -0.73502725 -0.00173552  1.1087177   0.7160015  -0.02486867\n",
      "  0.15866336 -0.09985847 -1.0222024  -0.1446278  -0.22922714 -0.2788021\n",
      " -0.3301258   0.38363647 -0.7822534  -0.33606672 -0.40352586 -0.28710285\n",
      "  0.47481206 -0.10683256 -0.76244175  0.13022062  0.32736543  0.2571165\n",
      "  0.56189805 -0.70189714  0.199835   -0.59502345 -0.8489075   0.36385542\n",
      "  0.75039625 -0.80008227 -0.3502178   0.1147415  -0.762853   -0.47335225\n",
      " -0.50688165 -0.48176718 -0.31191522  0.8489408 ]\n",
      "[array([0., 0., 0., 0., 0., 0., 0., 0., 0., 0., 0., 0., 0., 0., 0., 0., 0.,\n",
      "       0., 0., 0., 0., 0., 0., 0., 0., 0., 0., 0., 0., 0., 0., 0., 0., 0.,\n",
      "       0., 0., 0., 0., 0., 0., 0., 0., 0., 0., 0., 0., 0., 0., 0., 0., 0.,\n",
      "       0., 0., 0., 0., 0., 0., 0., 0., 0., 0., 0., 0., 0., 0., 0., 0., 0.,\n",
      "       0., 0., 0., 0., 0., 0., 0., 0., 0., 0., 0., 0., 0., 0., 0., 0., 0.,\n",
      "       0., 0., 0., 0., 0., 0., 0., 0., 0., 0., 0., 0., 0., 0., 0.]), array([0., 0., 0., 0., 0., 0., 0., 0., 0., 0., 0., 0., 0., 0., 0., 0., 0.,\n",
      "       0., 0., 0., 0., 0., 0., 0., 0., 0., 0., 0., 0., 0., 0., 0., 0., 0.,\n",
      "       0., 0., 0., 0., 0., 0., 0., 0., 0., 0., 0., 0., 0., 0., 0., 0., 0.,\n",
      "       0., 0., 0., 0., 0., 0., 0., 0., 0., 0., 0., 0., 0., 0., 0., 0., 0.,\n",
      "       0., 0., 0., 0., 0., 0., 0., 0., 0., 0., 0., 0., 0., 0., 0., 0., 0.,\n",
      "       0., 0., 0., 0., 0., 0., 0., 0., 0., 0., 0., 0., 0., 0., 0.]), array([0., 0., 0., 0., 0., 0., 0., 0., 0., 0., 0., 0., 0., 0., 0., 0., 0.,\n",
      "       0., 0., 0., 0., 0., 0., 0., 0., 0., 0., 0., 0., 0., 0., 0., 0., 0.,\n",
      "       0., 0., 0., 0., 0., 0., 0., 0., 0., 0., 0., 0., 0., 0., 0., 0., 0.,\n",
      "       0., 0., 0., 0., 0., 0., 0., 0., 0., 0., 0., 0., 0., 0., 0., 0., 0.,\n",
      "       0., 0., 0., 0., 0., 0., 0., 0., 0., 0., 0., 0., 0., 0., 0., 0., 0.,\n",
      "       0., 0., 0., 0., 0., 0., 0., 0., 0., 0., 0., 0., 0., 0., 0.]), array([0., 0., 0., 0., 0., 0., 0., 0., 0., 0., 0., 0., 0., 0., 0., 0., 0.,\n",
      "       0., 0., 0., 0., 0., 0., 0., 0., 0., 0., 0., 0., 0., 0., 0., 0., 0.,\n",
      "       0., 0., 0., 0., 0., 0., 0., 0., 0., 0., 0., 0., 0., 0., 0., 0., 0.,\n",
      "       0., 0., 0., 0., 0., 0., 0., 0., 0., 0., 0., 0., 0., 0., 0., 0., 0.,\n",
      "       0., 0., 0., 0., 0., 0., 0., 0., 0., 0., 0., 0., 0., 0., 0., 0., 0.,\n",
      "       0., 0., 0., 0., 0., 0., 0., 0., 0., 0., 0., 0., 0., 0., 0.]), array([0., 0., 0., 0., 0., 0., 0., 0., 0., 0., 0., 0., 0., 0., 0., 0., 0.,\n",
      "       0., 0., 0., 0., 0., 0., 0., 0., 0., 0., 0., 0., 0., 0., 0., 0., 0.,\n",
      "       0., 0., 0., 0., 0., 0., 0., 0., 0., 0., 0., 0., 0., 0., 0., 0., 0.,\n",
      "       0., 0., 0., 0., 0., 0., 0., 0., 0., 0., 0., 0., 0., 0., 0., 0., 0.,\n",
      "       0., 0., 0., 0., 0., 0., 0., 0., 0., 0., 0., 0., 0., 0., 0., 0., 0.,\n",
      "       0., 0., 0., 0., 0., 0., 0., 0., 0., 0., 0., 0., 0., 0., 0.]), array([0., 0., 0., 0., 0., 0., 0., 0., 0., 0., 0., 0., 0., 0., 0., 0., 0.,\n",
      "       0., 0., 0., 0., 0., 0., 0., 0., 0., 0., 0., 0., 0., 0., 0., 0., 0.,\n",
      "       0., 0., 0., 0., 0., 0., 0., 0., 0., 0., 0., 0., 0., 0., 0., 0., 0.,\n",
      "       0., 0., 0., 0., 0., 0., 0., 0., 0., 0., 0., 0., 0., 0., 0., 0., 0.,\n",
      "       0., 0., 0., 0., 0., 0., 0., 0., 0., 0., 0., 0., 0., 0., 0., 0., 0.,\n",
      "       0., 0., 0., 0., 0., 0., 0., 0., 0., 0., 0., 0., 0., 0., 0.]), array([0., 0., 0., 0., 0., 0., 0., 0., 0., 0., 0., 0., 0., 0., 0., 0., 0.,\n",
      "       0., 0., 0., 0., 0., 0., 0., 0., 0., 0., 0., 0., 0., 0., 0., 0., 0.,\n",
      "       0., 0., 0., 0., 0., 0., 0., 0., 0., 0., 0., 0., 0., 0., 0., 0., 0.,\n",
      "       0., 0., 0., 0., 0., 0., 0., 0., 0., 0., 0., 0., 0., 0., 0., 0., 0.,\n",
      "       0., 0., 0., 0., 0., 0., 0., 0., 0., 0., 0., 0., 0., 0., 0., 0., 0.,\n",
      "       0., 0., 0., 0., 0., 0., 0., 0., 0., 0., 0., 0., 0., 0., 0.]), array([0., 0., 0., 0., 0., 0., 0., 0., 0., 0., 0., 0., 0., 0., 0., 0., 0.,\n",
      "       0., 0., 0., 0., 0., 0., 0., 0., 0., 0., 0., 0., 0., 0., 0., 0., 0.,\n",
      "       0., 0., 0., 0., 0., 0., 0., 0., 0., 0., 0., 0., 0., 0., 0., 0., 0.,\n",
      "       0., 0., 0., 0., 0., 0., 0., 0., 0., 0., 0., 0., 0., 0., 0., 0., 0.,\n",
      "       0., 0., 0., 0., 0., 0., 0., 0., 0., 0., 0., 0., 0., 0., 0., 0., 0.,\n",
      "       0., 0., 0., 0., 0., 0., 0., 0., 0., 0., 0., 0., 0., 0., 0.]), array([0., 0., 0., 0., 0., 0., 0., 0., 0., 0., 0., 0., 0., 0., 0., 0., 0.,\n",
      "       0., 0., 0., 0., 0., 0., 0., 0., 0., 0., 0., 0., 0., 0., 0., 0., 0.,\n",
      "       0., 0., 0., 0., 0., 0., 0., 0., 0., 0., 0., 0., 0., 0., 0., 0., 0.,\n",
      "       0., 0., 0., 0., 0., 0., 0., 0., 0., 0., 0., 0., 0., 0., 0., 0., 0.,\n",
      "       0., 0., 0., 0., 0., 0., 0., 0., 0., 0., 0., 0., 0., 0., 0., 0., 0.,\n",
      "       0., 0., 0., 0., 0., 0., 0., 0., 0., 0., 0., 0., 0., 0., 0.]), array([0., 0., 0., 0., 0., 0., 0., 0., 0., 0., 0., 0., 0., 0., 0., 0., 0.,\n",
      "       0., 0., 0., 0., 0., 0., 0., 0., 0., 0., 0., 0., 0., 0., 0., 0., 0.,\n",
      "       0., 0., 0., 0., 0., 0., 0., 0., 0., 0., 0., 0., 0., 0., 0., 0., 0.,\n",
      "       0., 0., 0., 0., 0., 0., 0., 0., 0., 0., 0., 0., 0., 0., 0., 0., 0.,\n",
      "       0., 0., 0., 0., 0., 0., 0., 0., 0., 0., 0., 0., 0., 0., 0., 0., 0.,\n",
      "       0., 0., 0., 0., 0., 0., 0., 0., 0., 0., 0., 0., 0., 0., 0.])]\n"
     ]
    }
   ],
   "source": [
    "# prepare word2vec for the input of Random Forest\n",
    "\n",
    "# load embedding as a dict\n",
    "def load_embedding(filename):\n",
    "    # load embedding into memory, skip first line\n",
    "    file = open(filename,'r')\n",
    "    lines = file.readlines()[1:]\n",
    "    file.close()\n",
    "    # create a map of words to vectors\n",
    "    embedding = dict()\n",
    "    for line in lines:\n",
    "        parts = line.split()\n",
    "        # key is string word, value is numpy array for vector\n",
    "        embedding[parts[0]] = asarray(parts[1:], dtype='float32')\n",
    "    return embedding\n",
    "\n",
    "# load embedding from file\n",
    "raw_embedding = load_embedding('embedding_word2vec.txt')\n",
    "# do a sanity check\n",
    "print(raw_embedding['the'])\n",
    "\n",
    "# prepare word2vec for random forest\n",
    "\n",
    "samples_w_RF = []\n",
    "\n",
    "def RF_input_matrix(embedding, sentences, text):\n",
    "    for sentence in sentences:\n",
    "        vector = zeros(100)\n",
    "        word_num = 0\n",
    "        for word in sentence:\n",
    "            if word in embedding.keys():\n",
    "                vector += embedding.get(word)\n",
    "                word_num += 1\n",
    "        if word_num > 0:\n",
    "            vector = vector / word_num\n",
    "        text.append(vector)\n",
    "    return text\n",
    "\n",
    "\n",
    "samples_w_RF = RF_input_matrix(raw_embedding, samples, samples_w_RF)\n",
    "\n",
    "# do a sanity check\n",
    "print(samples_w_RF[:10])"
   ]
  },
  {
   "cell_type": "code",
   "execution_count": 28,
   "metadata": {},
   "outputs": [],
   "source": [
    "# classify a sample as a class: \"World\" or \"Sports\" or \"Business\" or \"Sci/Tech\"\n",
    "def get_label(source_txt, predict_labels):\n",
    "    class_index = {}\n",
    "    with open(source_txt, 'r') as classes:\n",
    "        for line in classes:\n",
    "            values = line.split()\n",
    "            class_name = values[1]\n",
    "            label_name = values[0]\n",
    "            class_index[label_name] = class_name\n",
    "    print(class_index)\n",
    "    \n",
    "    class_predict_list = []\n",
    "    for label in predict_labels:\n",
    "        class_predict = class_index.get(label)\n",
    "        class_predict_list.append(class_predict)\n",
    "    print(class_predict_list)"
   ]
  },
  {
   "cell_type": "code",
   "execution_count": 29,
   "metadata": {},
   "outputs": [],
   "source": [
    "def calculate_test_acc(yhat, samples_count):\n",
    "    predict_right = 0\n",
    "    for label in yhat:\n",
    "        if label == \"2\":\n",
    "            predict_right += 1\n",
    "    test_acc = (predict_right/samples_count) * 100\n",
    "    print('Test Accuracy: %0.2f%%' % test_acc)\n",
    "    return test_acc"
   ]
  },
  {
   "cell_type": "markdown",
   "metadata": {},
   "source": [
    "# (1) Test the Performance of the Standard Machine Learning Model"
   ]
  },
  {
   "cell_type": "markdown",
   "metadata": {},
   "source": [
    "# 1) Using Text Data Prepared with Tfidf"
   ]
  },
  {
   "cell_type": "code",
   "execution_count": 30,
   "metadata": {},
   "outputs": [],
   "source": [
    "results = []\n",
    "def predict_label_ml(samples, model): \n",
    "    results = model.predict(samples)\n",
    "    results = [str(result) for result in results]\n",
    "    return results"
   ]
  },
  {
   "cell_type": "code",
   "execution_count": 31,
   "metadata": {},
   "outputs": [
    {
     "name": "stdout",
     "output_type": "stream",
     "text": [
      "['2', '2', '2', '2', '2', '2', '2', '2', '2', '2', '2', '2', '2', '2', '2', '2', '2', '2', '2', '2', '2', '2', '2', '2', '2', '2', '2', '2', '2', '2', '2', '2', '2', '2', '2', '2', '2', '2', '2', '2', '2', '2', '2', '2', '2', '2', '2', '2', '2', '2', '2', '2', '2', '2', '2', '2', '2', '2', '2', '2', '2', '2', '2', '2', '2', '2', '2', '2', '2', '2', '2', '2', '2', '2', '2', '2', '2', '2', '2', '2', '2', '2', '2', '2', '2', '2', '2', '2', '2', '2', '2', '2', '2', '2', '2', '2', '2', '2', '2', '2']\n"
     ]
    }
   ],
   "source": [
    "labels_tfidf = predict_label_ml(samples_tfidf, clfRF_t)\n",
    "print(labels_tfidf)"
   ]
  },
  {
   "cell_type": "code",
   "execution_count": 32,
   "metadata": {},
   "outputs": [
    {
     "name": "stdout",
     "output_type": "stream",
     "text": [
      "{'1': 'World', '2': 'Sports', '3': 'Business', '4': 'Sci/Tech'}\n",
      "['Sports', 'Sports', 'Sports', 'Sports', 'Sports', 'Sports', 'Sports', 'Sports', 'Sports', 'Sports', 'Sports', 'Sports', 'Sports', 'Sports', 'Sports', 'Sports', 'Sports', 'Sports', 'Sports', 'Sports', 'Sports', 'Sports', 'Sports', 'Sports', 'Sports', 'Sports', 'Sports', 'Sports', 'Sports', 'Sports', 'Sports', 'Sports', 'Sports', 'Sports', 'Sports', 'Sports', 'Sports', 'Sports', 'Sports', 'Sports', 'Sports', 'Sports', 'Sports', 'Sports', 'Sports', 'Sports', 'Sports', 'Sports', 'Sports', 'Sports', 'Sports', 'Sports', 'Sports', 'Sports', 'Sports', 'Sports', 'Sports', 'Sports', 'Sports', 'Sports', 'Sports', 'Sports', 'Sports', 'Sports', 'Sports', 'Sports', 'Sports', 'Sports', 'Sports', 'Sports', 'Sports', 'Sports', 'Sports', 'Sports', 'Sports', 'Sports', 'Sports', 'Sports', 'Sports', 'Sports', 'Sports', 'Sports', 'Sports', 'Sports', 'Sports', 'Sports', 'Sports', 'Sports', 'Sports', 'Sports', 'Sports', 'Sports', 'Sports', 'Sports', 'Sports', 'Sports', 'Sports', 'Sports', 'Sports', 'Sports']\n"
     ]
    }
   ],
   "source": [
    "get_label(\"data/classes.txt\", labels_tfidf)"
   ]
  },
  {
   "cell_type": "code",
   "execution_count": 33,
   "metadata": {},
   "outputs": [
    {
     "name": "stdout",
     "output_type": "stream",
     "text": [
      "Test Accuracy: 100.00%\n"
     ]
    }
   ],
   "source": [
    "testing_acc = pd.DataFrame(columns = [\"Classifier\", \"Testing accuracy(percent)\"])\n",
    "\n",
    "test_acc_rf_t = calculate_test_acc(labels_tfidf, 100)\n",
    "testing_acc.loc[0] = [\"Random Forest(with Tfidf)\",  test_acc_rf_t] \n"
   ]
  },
  {
   "cell_type": "markdown",
   "metadata": {},
   "source": [
    "# 2) Using Text Data Prepared with Word2vec"
   ]
  },
  {
   "cell_type": "code",
   "execution_count": 34,
   "metadata": {},
   "outputs": [
    {
     "name": "stdout",
     "output_type": "stream",
     "text": [
      "['2', '2', '2', '2', '2', '2', '2', '2', '2', '2', '2', '2', '2', '2', '2', '2', '2', '2', '2', '2', '2', '2', '2', '2', '2', '2', '2', '2', '2', '2', '2', '2', '2', '2', '2', '2', '2', '2', '2', '2', '2', '2', '2', '2', '2', '2', '2', '2', '2', '2', '2', '2', '2', '2', '2', '2', '2', '2', '2', '2', '2', '2', '2', '2', '2', '2', '2', '2', '2', '2', '2', '2', '2', '2', '2', '2', '2', '2', '2', '2', '2', '2', '2', '2', '2', '2', '2', '2', '2', '2', '2', '2', '2', '2', '2', '2', '2', '2', '2', '2']\n"
     ]
    }
   ],
   "source": [
    "labels_word2vec = predict_label_ml(samples_w_RF, clfRF_w)\n",
    "print(labels_word2vec)"
   ]
  },
  {
   "cell_type": "code",
   "execution_count": 35,
   "metadata": {},
   "outputs": [
    {
     "name": "stdout",
     "output_type": "stream",
     "text": [
      "{'1': 'World', '2': 'Sports', '3': 'Business', '4': 'Sci/Tech'}\n",
      "['Sports', 'Sports', 'Sports', 'Sports', 'Sports', 'Sports', 'Sports', 'Sports', 'Sports', 'Sports', 'Sports', 'Sports', 'Sports', 'Sports', 'Sports', 'Sports', 'Sports', 'Sports', 'Sports', 'Sports', 'Sports', 'Sports', 'Sports', 'Sports', 'Sports', 'Sports', 'Sports', 'Sports', 'Sports', 'Sports', 'Sports', 'Sports', 'Sports', 'Sports', 'Sports', 'Sports', 'Sports', 'Sports', 'Sports', 'Sports', 'Sports', 'Sports', 'Sports', 'Sports', 'Sports', 'Sports', 'Sports', 'Sports', 'Sports', 'Sports', 'Sports', 'Sports', 'Sports', 'Sports', 'Sports', 'Sports', 'Sports', 'Sports', 'Sports', 'Sports', 'Sports', 'Sports', 'Sports', 'Sports', 'Sports', 'Sports', 'Sports', 'Sports', 'Sports', 'Sports', 'Sports', 'Sports', 'Sports', 'Sports', 'Sports', 'Sports', 'Sports', 'Sports', 'Sports', 'Sports', 'Sports', 'Sports', 'Sports', 'Sports', 'Sports', 'Sports', 'Sports', 'Sports', 'Sports', 'Sports', 'Sports', 'Sports', 'Sports', 'Sports', 'Sports', 'Sports', 'Sports', 'Sports', 'Sports', 'Sports']\n"
     ]
    }
   ],
   "source": [
    "get_label(\"data/classes.txt\", labels_word2vec)"
   ]
  },
  {
   "cell_type": "code",
   "execution_count": 36,
   "metadata": {},
   "outputs": [
    {
     "name": "stdout",
     "output_type": "stream",
     "text": [
      "Test Accuracy: 100.00%\n"
     ]
    }
   ],
   "source": [
    "test_acc_rf_t = calculate_test_acc(labels_word2vec, 100)\n",
    "testing_acc.loc[1] = [\"Random Forest(with word2vec)\",  test_acc_rf_t] "
   ]
  },
  {
   "cell_type": "markdown",
   "metadata": {},
   "source": [
    "# (2) Test the Performance of the Deep Learning Model"
   ]
  },
  {
   "cell_type": "code",
   "execution_count": 37,
   "metadata": {
    "scrolled": true
   },
   "outputs": [
    {
     "name": "stdout",
     "output_type": "stream",
     "text": [
      "['2', '2', '2', '2', '2', '2', '2', '2', '2', '2', '2', '2', '2', '2', '2', '2', '2', '2', '2', '2', '2', '2', '2', '2', '2', '2', '2', '2', '2', '2', '2', '2', '2', '2', '2', '2', '2', '2', '2', '2', '2', '2', '2', '2', '2', '2', '2', '2', '2', '2', '2', '2', '2', '2', '2', '2', '2', '2', '2', '2', '2', '2', '2', '2', '2', '2', '2', '2', '2', '2', '2', '2', '2', '2', '2', '2', '2', '2', '2', '2', '2', '2', '2', '2', '2', '2', '2', '2', '2', '2', '2', '2', '2', '2', '2', '2', '2', '2', '2', '2']\n"
     ]
    }
   ],
   "source": [
    "import numpy as np\n",
    "\n",
    "# classify a sample as a label: 1 or 2 or 3 or 4\n",
    "def predict_label_dl(samples, model):\n",
    "    # predict sentiment\n",
    "    yhat = np.ndarray.tolist(model.predict_classes(samples, verbose = 0))\n",
    "    # as the to_categorical function exists in model_dl,\n",
    "    # y:0 corresponds to label: 1, y:1 corresponds to label:2......\n",
    "    yhat = [str(label +1) for label in yhat]\n",
    "    return yhat\n",
    "\n",
    "yhat = predict_label_dl(samples_padded, model_dl)\n",
    "print(yhat)"
   ]
  },
  {
   "cell_type": "code",
   "execution_count": 38,
   "metadata": {},
   "outputs": [
    {
     "name": "stdout",
     "output_type": "stream",
     "text": [
      "{'1': 'World', '2': 'Sports', '3': 'Business', '4': 'Sci/Tech'}\n",
      "['Sports', 'Sports', 'Sports', 'Sports', 'Sports', 'Sports', 'Sports', 'Sports', 'Sports', 'Sports', 'Sports', 'Sports', 'Sports', 'Sports', 'Sports', 'Sports', 'Sports', 'Sports', 'Sports', 'Sports', 'Sports', 'Sports', 'Sports', 'Sports', 'Sports', 'Sports', 'Sports', 'Sports', 'Sports', 'Sports', 'Sports', 'Sports', 'Sports', 'Sports', 'Sports', 'Sports', 'Sports', 'Sports', 'Sports', 'Sports', 'Sports', 'Sports', 'Sports', 'Sports', 'Sports', 'Sports', 'Sports', 'Sports', 'Sports', 'Sports', 'Sports', 'Sports', 'Sports', 'Sports', 'Sports', 'Sports', 'Sports', 'Sports', 'Sports', 'Sports', 'Sports', 'Sports', 'Sports', 'Sports', 'Sports', 'Sports', 'Sports', 'Sports', 'Sports', 'Sports', 'Sports', 'Sports', 'Sports', 'Sports', 'Sports', 'Sports', 'Sports', 'Sports', 'Sports', 'Sports', 'Sports', 'Sports', 'Sports', 'Sports', 'Sports', 'Sports', 'Sports', 'Sports', 'Sports', 'Sports', 'Sports', 'Sports', 'Sports', 'Sports', 'Sports', 'Sports', 'Sports', 'Sports', 'Sports', 'Sports']\n"
     ]
    }
   ],
   "source": [
    "get_label(\"data/classes.txt\", yhat)"
   ]
  },
  {
   "cell_type": "code",
   "execution_count": 39,
   "metadata": {},
   "outputs": [
    {
     "name": "stdout",
     "output_type": "stream",
     "text": [
      "Test Accuracy: 100.00%\n"
     ]
    }
   ],
   "source": [
    "test_acc_dl = calculate_test_acc(yhat, 100)\n",
    "testing_acc.loc[2] = [\"Deep Learning Model\", test_acc_dl] "
   ]
  },
  {
   "cell_type": "markdown",
   "metadata": {},
   "source": [
    "# (3) Comparsion"
   ]
  },
  {
   "cell_type": "code",
   "execution_count": 40,
   "metadata": {},
   "outputs": [
    {
     "data": {
      "text/html": [
       "<div>\n",
       "<style scoped>\n",
       "    .dataframe tbody tr th:only-of-type {\n",
       "        vertical-align: middle;\n",
       "    }\n",
       "\n",
       "    .dataframe tbody tr th {\n",
       "        vertical-align: top;\n",
       "    }\n",
       "\n",
       "    .dataframe thead th {\n",
       "        text-align: right;\n",
       "    }\n",
       "</style>\n",
       "<table border=\"1\" class=\"dataframe\">\n",
       "  <thead>\n",
       "    <tr style=\"text-align: right;\">\n",
       "      <th></th>\n",
       "      <th>Classifier</th>\n",
       "      <th>Testing accuracy(percent)</th>\n",
       "    </tr>\n",
       "  </thead>\n",
       "  <tbody>\n",
       "    <tr>\n",
       "      <td>1</td>\n",
       "      <td>Random Forest(with Tfidf)</td>\n",
       "      <td>100.0</td>\n",
       "    </tr>\n",
       "    <tr>\n",
       "      <td>2</td>\n",
       "      <td>Random Forest(with word2vec)</td>\n",
       "      <td>100.0</td>\n",
       "    </tr>\n",
       "    <tr>\n",
       "      <td>3</td>\n",
       "      <td>Deep Learning Model</td>\n",
       "      <td>100.0</td>\n",
       "    </tr>\n",
       "  </tbody>\n",
       "</table>\n",
       "</div>"
      ],
      "text/plain": [
       "                     Classifier  Testing accuracy(percent)\n",
       "1     Random Forest(with Tfidf)                      100.0\n",
       "2  Random Forest(with word2vec)                      100.0\n",
       "3           Deep Learning Model                      100.0"
      ]
     },
     "execution_count": 40,
     "metadata": {},
     "output_type": "execute_result"
    }
   ],
   "source": [
    "testing_acc = testing_acc.sort_values(by=['Testing accuracy(percent)'])\n",
    "testing_acc.index = testing_acc.index + 1\n",
    "testing_acc"
   ]
  },
  {
   "cell_type": "code",
   "execution_count": 41,
   "metadata": {},
   "outputs": [
    {
     "data": {
      "text/plain": [
       "<matplotlib.axes._subplots.AxesSubplot at 0x7fff64dd1ba8>"
      ]
     },
     "execution_count": 41,
     "metadata": {},
     "output_type": "execute_result"
    },
    {
     "data": {
      "image/png": "[encoded data removed]",
      "text/plain": [
       "<Figure size 576x576 with 1 Axes>"
      ]
     },
     "metadata": {
      "needs_background": "light"
     },
     "output_type": "display_data"
    }
   ],
   "source": [
    "testing_acc.plot.bar(x='Classifier',y=['Testing accuracy(percent)'],figsize=(8,8), legend=True, fontsize=12)"
   ]
  }
 ],
 "metadata": {
  "kernelspec": {
   "display_name": "Python 3",
   "language": "python",
   "name": "python3"
  },
  "language_info": {
   "codemirror_mode": {
    "name": "ipython",
    "version": 3
   },
   "file_extension": ".py",
   "mimetype": "text/x-python",
   "name": "python",
   "nbconvert_exporter": "python",
   "pygments_lexer": "ipython3",
   "version": "3.6.9"
  }
 },
 "nbformat": 4,
 "nbformat_minor": 4
}
